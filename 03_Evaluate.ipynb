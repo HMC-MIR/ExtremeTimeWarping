{
 "cells": [
  {
   "cell_type": "code",
   "execution_count": 1,
   "metadata": {},
   "outputs": [],
   "source": [
    "%matplotlib inline"
   ]
  },
  {
   "cell_type": "code",
   "execution_count": 2,
   "metadata": {},
   "outputs": [],
   "source": [
    "import numpy as np\n",
    "import matplotlib.pyplot as plt\n",
    "import seaborn as sns\n",
    "from pathlib import Path\n",
    "import glob\n",
    "import os.path\n",
    "import pandas as pd\n",
    "import pickle"
   ]
  },
  {
   "cell_type": "code",
   "execution_count": 3,
   "metadata": {},
   "outputs": [],
   "source": [
    "import librosa as lb"
   ]
  },
  {
   "cell_type": "code",
   "execution_count": 4,
   "metadata": {},
   "outputs": [],
   "source": [
    "ANNOTATIONS_ROOT = Path('Chopin_Mazurkas/annotations_beat')\n",
    "query_list = Path('cfg_files/query.test.list')\n",
    "\n",
    "# For modified files\n",
    "ANNOTATIONS_ROOT_0500 = Path('Mazurkas_median_x0.500/annotations_beat')\n",
    "ANNOTATIONS_ROOT_0630 = Path('Mazurkas_median_x0.630/annotations_beat')\n",
    "ANNOTATIONS_ROOT_0794 = Path('Mazurkas_median_x0.794/annotations_beat')\n",
    "ANNOTATIONS_ROOT_1000 = Path('Mazurkas_median_x1.000/annotations_beat')\n",
    "ANNOTATIONS_ROOT_1260 = Path('Mazurkas_median_x1.260/annotations_beat')\n",
    "ANNOTATIONS_ROOT_1588 = Path('Mazurkas_median_x1.588/annotations_beat')\n",
    "ANNOTATIONS_ROOT_2000 = Path('Mazurkas_median_x2.000/annotations_beat')\n",
    "\n",
    "query_list_train_toy = Path('cfg_files/filelist.train_toy.txt')\n",
    "query_list_train_small = Path('cfg_files/filelist.train_small.txt')\n",
    "query_list_train_medium = Path('cfg_files/filelist.train_medium.txt')\n",
    "query_list_train_full = Path('cfg_files/filelist.train_full.txt')\n",
    "query_list_test_full = Path('cfg_files/filelist.test_full.txt')"
   ]
  },
  {
   "attachments": {},
   "cell_type": "markdown",
   "metadata": {},
   "source": [
    "### Evaluate hypothesis directory"
   ]
  },
  {
   "attachments": {},
   "cell_type": "markdown",
   "metadata": {},
   "source": [
    "First evaluate a single hypothesis directory."
   ]
  },
  {
   "cell_type": "code",
   "execution_count": 5,
   "metadata": {},
   "outputs": [],
   "source": [
    "def eval_dir(hypdir, querylist, hop_sec, annotation_root1, annotation_root2, savefile = None):\n",
    "    \n",
    "    allErrs = {}\n",
    "    cnt = 0\n",
    "    print(f'Processing {hypdir} ', end='')\n",
    "    with open(querylist, 'r') as f:\n",
    "        for line in f:\n",
    "            parts = line.strip().split()\n",
    "            assert len(parts) == 2\n",
    "            basename = os.path.basename(parts[0]) + '__' + os.path.basename(parts[1])\n",
    "            hypfile = hypdir + '/' + basename + '.pkl'\n",
    "            if not os.path.exists(hypfile):\n",
    "                print(\"X\", end='')\n",
    "                continue\n",
    "            allErrs[basename] = eval_file(hypfile, hop_sec, annotation_root1, annotation_root2)\n",
    "            cnt += 1\n",
    "            if cnt % 500 == 0:\n",
    "                print(\".\", end='')\n",
    "    print(' done')\n",
    "    if savefile:\n",
    "        pickle.dump(allErrs, open(savefile, 'wb'))\n",
    "        \n",
    "    return allErrs"
   ]
  },
  {
   "cell_type": "code",
   "execution_count": 6,
   "metadata": {},
   "outputs": [],
   "source": [
    "def eval_file(hypfile, hop_sec, annotation_root1, annotation_root2):\n",
    "    parts = os.path.basename(hypfile).split('__')\n",
    "    assert len(parts) == 2\n",
    "    piece = extractPieceName(parts[0])\n",
    "    annotfile1 = (Path(annotation_root1) / piece / parts[0]).with_suffix('.beat')\n",
    "    annotfile2 = (Path(annotation_root2) / piece / parts[1]).with_suffix('.beat')\n",
    "    gt1 = getTimestamps(annotfile1)\n",
    "    gt2 = getTimestamps(annotfile2)\n",
    "    hypalign = loadAlignment(hypfile) # warping path in frames\n",
    "    if hypalign is None:\n",
    "        err = [] # no valid path\n",
    "    else:\n",
    "        pred2 = np.interp(gt1, hypalign[0,:]*hop_sec, hypalign[1,:]*hop_sec)\n",
    "        err = pred2 - gt2\n",
    "    return err"
   ]
  },
  {
   "cell_type": "code",
   "execution_count": 7,
   "metadata": {},
   "outputs": [],
   "source": [
    "def extractPieceName(fullpath):\n",
    "    basename = os.path.basename(fullpath) # e.g. Chopin_Op068No3_Sztompka-1959_pid9170b-21\n",
    "    parts = basename.split('_')\n",
    "    piece = '_'.join(parts[0:2]) # e.g. Chopin_Op068No3\n",
    "    return piece"
   ]
  },
  {
   "cell_type": "code",
   "execution_count": 8,
   "metadata": {},
   "outputs": [],
   "source": [
    "def getTimestamps(annotfile):\n",
    "    df = pd.read_csv(annotfile, header=None, sep='\\s+', skiprows=3)\n",
    "    return np.array(df[0])"
   ]
  },
  {
   "cell_type": "code",
   "execution_count": 9,
   "metadata": {},
   "outputs": [],
   "source": [
    "def loadAlignment(hypfile):\n",
    "    with open(hypfile, 'rb') as f:\n",
    "        d = pickle.load(f)\n",
    "    return d"
   ]
  },
  {
   "attachments": {},
   "cell_type": "markdown",
   "metadata": {},
   "source": [
    "Evaluate a single hypothesis directory."
   ]
  },
  {
   "cell_type": "code",
   "execution_count": 57,
   "metadata": {},
   "outputs": [
    {
     "name": "stdout",
     "output_type": "stream",
     "text": [
      "Processing experiments_test/test_full...DTW1 ....... done\n"
     ]
    }
   ],
   "source": [
    "hypdir = 'experiments_test/test_full...DTW1'\n",
    "savefile = 'evaluations_test/test_full...DTW1.pkl'\n",
    "hop_sec = 512 * 1 / 22050\n",
    "allErrs = eval_dir(hypdir, query_list_test_full, hop_sec, ANNOTATIONS_ROOT, ANNOTATIONS_ROOT, savefile)"
   ]
  },
  {
   "attachments": {},
   "cell_type": "markdown",
   "metadata": {},
   "source": [
    "Evaluate all hypothesis directories."
   ]
  },
  {
   "cell_type": "code",
   "execution_count": 43,
   "metadata": {},
   "outputs": [],
   "source": [
    "def eval_all_dirs(rootdir, querylist, hop_sec, outdir):\n",
    "    if not os.path.exists(outdir):\n",
    "        os.mkdir(outdir)\n",
    "    for hypdir in glob.glob(f'{rootdir}/train_toy*'):\n",
    "        savefile = outdir + '/' + os.path.basename(hypdir) + '.pkl'\n",
    "        # get annotation_root1, annotation_root2\n",
    "        info = hypdir.split('.')\n",
    "        annotation_root1 = 'Mazurkas_median_{}.{}/annotations_beat'.format(info[1][:2], info[1][2:])\n",
    "        annotation_root2 = 'Mazurkas_median_{}.{}/annotations_beat'.format(info[2][:2], info[2][2:])\n",
    "        allErrs = eval_dir(hypdir, querylist, hop_sec, annotation_root1, annotation_root2, savefile = savefile)"
   ]
  },
  {
   "cell_type": "code",
   "execution_count": 58,
   "metadata": {},
   "outputs": [
    {
     "name": "stdout",
     "output_type": "stream",
     "text": [
      "Processing experiments_test/train_toy.x1588.x0630.DTW1  done\n",
      "Processing experiments_test/train_toy.x2000.x0500.DTW1  done\n",
      "Processing experiments_test/train_toy.x1588.x0794.DTW1  done\n",
      "Processing experiments_test/train_toy.x1000.x1000.DTW1  done\n",
      "Processing experiments_test/train_toy.x1260.x0794.DTW1  done\n",
      "Processing experiments_test/train_toy.x1588.x0500.DTW1  done\n",
      "Processing experiments_test/train_toy.x1260.x1000.DTW1  done\n",
      "Processing experiments_test/train_toy.x2000.x0630.DTW1  done\n"
     ]
    }
   ],
   "source": [
    "EXPERIMENTS_ROOT = 'experiments_test'\n",
    "hop_sec = 512 * 1 / 22050\n",
    "outdir = 'evaluations_test'\n",
    "eval_all_dirs(EXPERIMENTS_ROOT, query_list_train_toy, hop_sec, outdir)"
   ]
  },
  {
   "attachments": {},
   "cell_type": "markdown",
   "metadata": {},
   "source": [
    "### Plot error vs tolerance"
   ]
  },
  {
   "cell_type": "code",
   "execution_count": 45,
   "metadata": {},
   "outputs": [],
   "source": [
    "def calc_error_rates(errFile, maxTol):\n",
    "    \n",
    "    # read from file\n",
    "    with open(errFile, 'rb') as f:\n",
    "        allErrs = pickle.load(f)\n",
    "    \n",
    "    # collect all errors\n",
    "    errsFlat = []\n",
    "    for query in allErrs:\n",
    "        errs = np.array(allErrs[query])\n",
    "        errsFlat.append(errs)\n",
    "    errsFlat = np.concatenate(errsFlat)\n",
    "    \n",
    "    # calculate error rates\n",
    "    errRates = np.zeros(maxTol+1)\n",
    "    for i in range(maxTol+1):\n",
    "        errRates[i] = np.mean(np.abs(errsFlat) > i/1000)\n",
    "    \n",
    "    return errRates, errsFlat"
   ]
  },
  {
   "cell_type": "code",
   "execution_count": 46,
   "metadata": {},
   "outputs": [],
   "source": [
    "def calc_error_rates_batch(indir, basenames, maxTol):\n",
    "    errRates = np.zeros((len(basenames), maxTol+1))\n",
    "    allErrVals = []\n",
    "    print('Computing error rates ', end='')\n",
    "    for i, basename in enumerate(basenames):\n",
    "        errFile = indir + '/' + basename + '.pkl'\n",
    "        errRates[i,:], errors = calc_error_rates(errFile, maxTol)\n",
    "        allErrVals.append(errors)\n",
    "        print('.', end='')\n",
    "    print(' done')\n",
    "    return errRates, allErrVals"
   ]
  },
  {
   "cell_type": "code",
   "execution_count": 47,
   "metadata": {},
   "outputs": [],
   "source": [
    "def plot_multiple_roc(errRates, basenames):\n",
    "    numSystems = errRates.shape[0]\n",
    "    maxTol = errRates.shape[1] - 1\n",
    "    for i in range(numSystems):\n",
    "        plt.plot(np.arange(maxTol+1), errRates[i,:] * 100.0)\n",
    "    plt.legend(basenames, bbox_to_anchor=(1.05, 1), loc=2, borderaxespad=0.)\n",
    "    plt.xlabel('Error Tolerance (ms)')\n",
    "    plt.ylabel('Error Rate (%)')\n",
    "    plt.show()\n",
    "    return"
   ]
  },
  {
   "cell_type": "code",
   "execution_count": 59,
   "metadata": {},
   "outputs": [
    {
     "name": "stdout",
     "output_type": "stream",
     "text": [
      "Computing error rates ........ done\n"
     ]
    }
   ],
   "source": [
    "EVAL_ROOT_DIR = 'evaluations_test'\n",
    "toPlot = ['train_toy.x1000.x1000.DTW1', 'train_toy.x1260.x0794.DTW1', 'train_toy.x1260.x1000.DTW1', 'train_toy.x1588.x0500.DTW1', 'train_toy.x1588.x0630.DTW1', 'train_toy.x1588.x0794.DTW1', 'train_toy.x2000.x0630.DTW1', 'train_toy.x2000.x0500.DTW1'] #,'segmental_2_clean', 'segmental_4_clean', 'segmental_8_clean', 'segmental_16_clean', 'segmental_32_clean', 'pardtw_2_clean', 'pardtw_4_clean', 'pardtw_8_clean', 'pardtw_16_clean', 'pardtw_32_clean']\n",
    "maxTol = 1000 # in msec\n",
    "errRates, errVals = calc_error_rates_batch(EVAL_ROOT_DIR, toPlot, maxTol)"
   ]
  },
  {
   "cell_type": "code",
   "execution_count": 49,
   "metadata": {},
   "outputs": [
    {
     "data": {
      "image/png": "[encoded data removed]",
      "text/plain": [
       "<Figure size 432x288 with 1 Axes>"
      ]
     },
     "metadata": {
      "needs_background": "light"
     },
     "output_type": "display_data"
    }
   ],
   "source": [
    "plot_multiple_roc(errRates, toPlot)"
   ]
  },
  {
   "attachments": {},
   "cell_type": "markdown",
   "metadata": {},
   "source": [
    "### Grouped barplot: 7 groups corresponding to 7 different global time warp factors"
   ]
  },
  {
   "cell_type": "code",
   "execution_count": 50,
   "metadata": {},
   "outputs": [],
   "source": [
    "def get_global_time_warp(num1, num2):\n",
    "    return round(num1/num2, 3)"
   ]
  },
  {
   "cell_type": "code",
   "execution_count": 51,
   "metadata": {},
   "outputs": [],
   "source": [
    "def generate_df(errRates, basenames, tols):\n",
    "    '''generates df to use with histogram'''\n",
    "    data = []\n",
    "    for i, dir in enumerate(basenames):\n",
    "        info = dir.split('.')\n",
    "        # get system\n",
    "        system = info[3]\n",
    "        # get global_time_warp\n",
    "        factor1 = float('{}.{}'.format(info[1][1],info[1][2:]))\n",
    "        factor2 = float('{}.{}'.format(info[2][1],info[2][2:]))\n",
    "        global_time_warp = get_global_time_warp(factor1, factor2)\n",
    "        # for tol in tols:\n",
    "        for tol in tols:\n",
    "            # get errors and append\n",
    "            data.append((system, tol, errRates[i,tol]*100, global_time_warp))\n",
    "    df = pd.DataFrame(data, columns = ['System', 'Tolerance', 'Error', 'Global Time Warp'])\n",
    "    return df"
   ]
  },
  {
   "cell_type": "code",
   "execution_count": 64,
   "metadata": {},
   "outputs": [],
   "source": [
    "def plot_grouped_histogram1(df):  \n",
    "    # Histogram grouped by tolerance\n",
    "    tol_200 = df[df['Tolerance']==200]\n",
    "    sns.barplot(data=tol_200, x=\"Global Time Warp\", y=\"Error\", hue=\"System\")\n",
    "\n",
    "    plt.xlabel(\"Global Time Warp\", size=14)\n",
    "    plt.ylabel(\"Error Rate\", size=14)\n",
    "    plt.legend(bbox_to_anchor=(1.05, 1), loc=2, borderaxespad=0.)\n",
    "    plt.grid()\n",
    "    plt.show()\n",
    "    \n",
    "    return"
   ]
  },
  {
   "cell_type": "code",
   "execution_count": 61,
   "metadata": {},
   "outputs": [
    {
     "name": "stdout",
     "output_type": "stream",
     "text": [
      "['train_toy', 'x1000', 'x1000', 'DTW1']\n",
      "['train_toy', 'x1260', 'x0794', 'DTW1']\n",
      "['train_toy', 'x1260', 'x1000', 'DTW1']\n",
      "['train_toy', 'x1588', 'x0500', 'DTW1']\n",
      "['train_toy', 'x1588', 'x0630', 'DTW1']\n",
      "['train_toy', 'x1588', 'x0794', 'DTW1']\n",
      "['train_toy', 'x2000', 'x0630', 'DTW1']\n",
      "['train_toy', 'x2000', 'x0500', 'DTW1']\n"
     ]
    }
   ],
   "source": [
    "df1 = generate_df(errRates, toPlot, [200, 500, 1000])"
   ]
  },
  {
   "cell_type": "code",
   "execution_count": 63,
   "metadata": {},
   "outputs": [
    {
     "data": {
      "text/html": [
       "<div>\n",
       "<style scoped>\n",
       "    .dataframe tbody tr th:only-of-type {\n",
       "        vertical-align: middle;\n",
       "    }\n",
       "\n",
       "    .dataframe tbody tr th {\n",
       "        vertical-align: top;\n",
       "    }\n",
       "\n",
       "    .dataframe thead th {\n",
       "        text-align: right;\n",
       "    }\n",
       "</style>\n",
       "<table border=\"1\" class=\"dataframe\">\n",
       "  <thead>\n",
       "    <tr style=\"text-align: right;\">\n",
       "      <th></th>\n",
       "      <th>System</th>\n",
       "      <th>Tolerance</th>\n",
       "      <th>Error</th>\n",
       "      <th>Global Time Warp</th>\n",
       "    </tr>\n",
       "  </thead>\n",
       "  <tbody>\n",
       "    <tr>\n",
       "      <th>0</th>\n",
       "      <td>DTW1</td>\n",
       "      <td>200</td>\n",
       "      <td>15.151515</td>\n",
       "      <td>1.000</td>\n",
       "    </tr>\n",
       "    <tr>\n",
       "      <th>1</th>\n",
       "      <td>DTW1</td>\n",
       "      <td>500</td>\n",
       "      <td>3.636364</td>\n",
       "      <td>1.000</td>\n",
       "    </tr>\n",
       "    <tr>\n",
       "      <th>2</th>\n",
       "      <td>DTW1</td>\n",
       "      <td>1000</td>\n",
       "      <td>0.757576</td>\n",
       "      <td>1.000</td>\n",
       "    </tr>\n",
       "    <tr>\n",
       "      <th>3</th>\n",
       "      <td>DTW1</td>\n",
       "      <td>200</td>\n",
       "      <td>15.202020</td>\n",
       "      <td>1.587</td>\n",
       "    </tr>\n",
       "    <tr>\n",
       "      <th>4</th>\n",
       "      <td>DTW1</td>\n",
       "      <td>500</td>\n",
       "      <td>6.212121</td>\n",
       "      <td>1.587</td>\n",
       "    </tr>\n",
       "    <tr>\n",
       "      <th>5</th>\n",
       "      <td>DTW1</td>\n",
       "      <td>1000</td>\n",
       "      <td>2.777778</td>\n",
       "      <td>1.587</td>\n",
       "    </tr>\n",
       "    <tr>\n",
       "      <th>6</th>\n",
       "      <td>DTW1</td>\n",
       "      <td>200</td>\n",
       "      <td>13.181818</td>\n",
       "      <td>1.260</td>\n",
       "    </tr>\n",
       "    <tr>\n",
       "      <th>7</th>\n",
       "      <td>DTW1</td>\n",
       "      <td>500</td>\n",
       "      <td>3.030303</td>\n",
       "      <td>1.260</td>\n",
       "    </tr>\n",
       "    <tr>\n",
       "      <th>8</th>\n",
       "      <td>DTW1</td>\n",
       "      <td>1000</td>\n",
       "      <td>0.959596</td>\n",
       "      <td>1.260</td>\n",
       "    </tr>\n",
       "    <tr>\n",
       "      <th>9</th>\n",
       "      <td>DTW1</td>\n",
       "      <td>200</td>\n",
       "      <td>NaN</td>\n",
       "      <td>3.176</td>\n",
       "    </tr>\n",
       "    <tr>\n",
       "      <th>10</th>\n",
       "      <td>DTW1</td>\n",
       "      <td>500</td>\n",
       "      <td>NaN</td>\n",
       "      <td>3.176</td>\n",
       "    </tr>\n",
       "    <tr>\n",
       "      <th>11</th>\n",
       "      <td>DTW1</td>\n",
       "      <td>1000</td>\n",
       "      <td>NaN</td>\n",
       "      <td>3.176</td>\n",
       "    </tr>\n",
       "    <tr>\n",
       "      <th>12</th>\n",
       "      <td>DTW1</td>\n",
       "      <td>200</td>\n",
       "      <td>NaN</td>\n",
       "      <td>2.521</td>\n",
       "    </tr>\n",
       "    <tr>\n",
       "      <th>13</th>\n",
       "      <td>DTW1</td>\n",
       "      <td>500</td>\n",
       "      <td>NaN</td>\n",
       "      <td>2.521</td>\n",
       "    </tr>\n",
       "    <tr>\n",
       "      <th>14</th>\n",
       "      <td>DTW1</td>\n",
       "      <td>1000</td>\n",
       "      <td>NaN</td>\n",
       "      <td>2.521</td>\n",
       "    </tr>\n",
       "    <tr>\n",
       "      <th>15</th>\n",
       "      <td>DTW1</td>\n",
       "      <td>200</td>\n",
       "      <td>95.555556</td>\n",
       "      <td>2.000</td>\n",
       "    </tr>\n",
       "    <tr>\n",
       "      <th>16</th>\n",
       "      <td>DTW1</td>\n",
       "      <td>500</td>\n",
       "      <td>86.414141</td>\n",
       "      <td>2.000</td>\n",
       "    </tr>\n",
       "    <tr>\n",
       "      <th>17</th>\n",
       "      <td>DTW1</td>\n",
       "      <td>1000</td>\n",
       "      <td>73.383838</td>\n",
       "      <td>2.000</td>\n",
       "    </tr>\n",
       "    <tr>\n",
       "      <th>18</th>\n",
       "      <td>DTW1</td>\n",
       "      <td>200</td>\n",
       "      <td>NaN</td>\n",
       "      <td>3.175</td>\n",
       "    </tr>\n",
       "    <tr>\n",
       "      <th>19</th>\n",
       "      <td>DTW1</td>\n",
       "      <td>500</td>\n",
       "      <td>NaN</td>\n",
       "      <td>3.175</td>\n",
       "    </tr>\n",
       "    <tr>\n",
       "      <th>20</th>\n",
       "      <td>DTW1</td>\n",
       "      <td>1000</td>\n",
       "      <td>NaN</td>\n",
       "      <td>3.175</td>\n",
       "    </tr>\n",
       "    <tr>\n",
       "      <th>21</th>\n",
       "      <td>DTW1</td>\n",
       "      <td>200</td>\n",
       "      <td>NaN</td>\n",
       "      <td>4.000</td>\n",
       "    </tr>\n",
       "    <tr>\n",
       "      <th>22</th>\n",
       "      <td>DTW1</td>\n",
       "      <td>500</td>\n",
       "      <td>NaN</td>\n",
       "      <td>4.000</td>\n",
       "    </tr>\n",
       "    <tr>\n",
       "      <th>23</th>\n",
       "      <td>DTW1</td>\n",
       "      <td>1000</td>\n",
       "      <td>NaN</td>\n",
       "      <td>4.000</td>\n",
       "    </tr>\n",
       "  </tbody>\n",
       "</table>\n",
       "</div>"
      ],
      "text/plain": [
       "   System  Tolerance      Error  Global Time Warp\n",
       "0    DTW1        200  15.151515             1.000\n",
       "1    DTW1        500   3.636364             1.000\n",
       "2    DTW1       1000   0.757576             1.000\n",
       "3    DTW1        200  15.202020             1.587\n",
       "4    DTW1        500   6.212121             1.587\n",
       "5    DTW1       1000   2.777778             1.587\n",
       "6    DTW1        200  13.181818             1.260\n",
       "7    DTW1        500   3.030303             1.260\n",
       "8    DTW1       1000   0.959596             1.260\n",
       "9    DTW1        200        NaN             3.176\n",
       "10   DTW1        500        NaN             3.176\n",
       "11   DTW1       1000        NaN             3.176\n",
       "12   DTW1        200        NaN             2.521\n",
       "13   DTW1        500        NaN             2.521\n",
       "14   DTW1       1000        NaN             2.521\n",
       "15   DTW1        200  95.555556             2.000\n",
       "16   DTW1        500  86.414141             2.000\n",
       "17   DTW1       1000  73.383838             2.000\n",
       "18   DTW1        200        NaN             3.175\n",
       "19   DTW1        500        NaN             3.175\n",
       "20   DTW1       1000        NaN             3.175\n",
       "21   DTW1        200        NaN             4.000\n",
       "22   DTW1        500        NaN             4.000\n",
       "23   DTW1       1000        NaN             4.000"
      ]
     },
     "execution_count": 63,
     "metadata": {},
     "output_type": "execute_result"
    }
   ],
   "source": [
    "df1"
   ]
  },
  {
   "cell_type": "code",
   "execution_count": 65,
   "metadata": {},
   "outputs": [
    {
     "data": {
      "image/png": "[encoded data removed]",
      "text/plain": [
       "<Figure size 432x288 with 1 Axes>"
      ]
     },
     "metadata": {
      "needs_background": "light"
     },
     "output_type": "display_data"
    }
   ],
   "source": [
    "plot_grouped_histogram1(df1)"
   ]
  },
  {
   "attachments": {},
   "cell_type": "markdown",
   "metadata": {},
   "source": [
    "## Histogram from paper"
   ]
  },
  {
   "cell_type": "code",
   "execution_count": 31,
   "metadata": {},
   "outputs": [],
   "source": [
    "def plot_grouped_histogram1(errRates_bars, errRates_dots, basenames, tols, savefile = None):  \n",
    "    # Histogram grouped by tolerance\n",
    "    \n",
    "    # first construct DataFrame\n",
    "    data = []\n",
    "    for i, system in enumerate(basenames):\n",
    "        for tol in tols:\n",
    "            data.append((system, tol, errRates[i,tol] * 100.0))\n",
    "    df = pd.DataFrame(data, columns = ['System', 'Tolerance', 'Error'])\n",
    "    \n",
    "    # grouped barplot (DTW & WSDTW)\n",
    "    sns.barplot(x=\"Tolerance\", y=\"Error\", hue=\"System\", data=df)\n",
    "    plt.xlabel(\"Tolerance (ms)\", size=14)\n",
    "    plt.ylabel(\"Error Rate (%)\", size=14)\n",
    "    #plt.legend(bbox_to_anchor=(1.05, 1), loc=2, borderaxespad=0.)\n",
    "    plt.legend(loc='upper right')\n",
    "    \n",
    "    # overlay dots for SSDTW results\n",
    "    width_bar = .135\n",
    "    x_coords = []\n",
    "    y_coords = []\n",
    "    for i, tol in enumerate(tols):\n",
    "        for j in range(errRates_dots.shape[0]):\n",
    "            x_coords.append(i+(-1.5+j)*width_bar)\n",
    "            y_coords.append(errRates_dots[j,tol] * 100.0)\n",
    "    plt.plot(x_coords, y_coords, 'ko', markersize=3)\n",
    "    \n",
    "    if savefile:\n",
    "        plt.savefig(savefile, bbox_inches = 'tight')\n",
    "    return df"
   ]
  },
  {
   "cell_type": "code",
   "execution_count": 32,
   "metadata": {},
   "outputs": [
    {
     "data": {
      "text/html": [
       "<div>\n",
       "<style scoped>\n",
       "    .dataframe tbody tr th:only-of-type {\n",
       "        vertical-align: middle;\n",
       "    }\n",
       "\n",
       "    .dataframe tbody tr th {\n",
       "        vertical-align: top;\n",
       "    }\n",
       "\n",
       "    .dataframe thead th {\n",
       "        text-align: right;\n",
       "    }\n",
       "</style>\n",
       "<table border=\"1\" class=\"dataframe\">\n",
       "  <thead>\n",
       "    <tr style=\"text-align: right;\">\n",
       "      <th></th>\n",
       "      <th>System</th>\n",
       "      <th>Tolerance</th>\n",
       "      <th>Error</th>\n",
       "    </tr>\n",
       "  </thead>\n",
       "  <tbody>\n",
       "    <tr>\n",
       "      <th>0</th>\n",
       "      <td>DTW</td>\n",
       "      <td>10</td>\n",
       "      <td>74.655177</td>\n",
       "    </tr>\n",
       "    <tr>\n",
       "      <th>1</th>\n",
       "      <td>DTW</td>\n",
       "      <td>20</td>\n",
       "      <td>55.672810</td>\n",
       "    </tr>\n",
       "    <tr>\n",
       "      <th>2</th>\n",
       "      <td>DTW</td>\n",
       "      <td>50</td>\n",
       "      <td>29.834394</td>\n",
       "    </tr>\n",
       "    <tr>\n",
       "      <th>3</th>\n",
       "      <td>DTW</td>\n",
       "      <td>100</td>\n",
       "      <td>17.209739</td>\n",
       "    </tr>\n",
       "    <tr>\n",
       "      <th>4</th>\n",
       "      <td>DTW</td>\n",
       "      <td>200</td>\n",
       "      <td>8.536578</td>\n",
       "    </tr>\n",
       "    <tr>\n",
       "      <th>5</th>\n",
       "      <td>DTW</td>\n",
       "      <td>500</td>\n",
       "      <td>3.399190</td>\n",
       "    </tr>\n",
       "  </tbody>\n",
       "</table>\n",
       "</div>"
      ],
      "text/plain": [
       "  System  Tolerance      Error\n",
       "0    DTW         10  74.655177\n",
       "1    DTW         20  55.672810\n",
       "2    DTW         50  29.834394\n",
       "3    DTW        100  17.209739\n",
       "4    DTW        200   8.536578\n",
       "5    DTW        500   3.399190"
      ]
     },
     "execution_count": 32,
     "metadata": {},
     "output_type": "execute_result"
    },
    {
     "data": {
      "image/png": "[encoded data removed]",
      "text/plain": [
       "<Figure size 432x288 with 1 Axes>"
      ]
     },
     "metadata": {
      "needs_background": "light"
     },
     "output_type": "display_data"
    }
   ],
   "source": [
    "tols = [10, 20, 50, 100, 200, 500] # in msec\n",
    "display_names = ['DTW']#, 'SegDTW-2', 'SegDTW-4', 'SegDTW-8', 'SegDTW-16','SegDTW-32']\n",
    "savefile = 'results.png'\n",
    "plot_grouped_histogram1(errRates[0:6,:], errRates[6:,:], display_names, tols, savefile)"
   ]
  }
 ],
 "metadata": {
  "kernelspec": {
   "display_name": "Python 3",
   "language": "python",
   "name": "python3"
  },
  "language_info": {
   "codemirror_mode": {
    "name": "ipython",
    "version": 3
   },
   "file_extension": ".py",
   "mimetype": "text/x-python",
   "name": "python",
   "nbconvert_exporter": "python",
   "pygments_lexer": "ipython3",
   "version": "3.7.7"
  },
  "orig_nbformat": 4
 },
 "nbformat": 4,
 "nbformat_minor": 2
}
