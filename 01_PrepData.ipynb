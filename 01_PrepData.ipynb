{
 "cells": [
  {
   "attachments": {},
   "cell_type": "markdown",
   "metadata": {},
   "source": [
    "# Data Prep"
   ]
  },
  {
   "attachments": {},
   "cell_type": "markdown",
   "metadata": {},
   "source": [
    "The goal of this notebook is to prep the data for the alignment task.  This includes computing audio features and generating a query list."
   ]
  },
  {
   "cell_type": "code",
   "execution_count": 44,
   "metadata": {},
   "outputs": [],
   "source": [
    "import numpy as np\n",
    "import librosa as lb\n",
    "import os\n",
    "import os.path\n",
    "from pathlib import Path\n",
    "import multiprocessing\n",
    "import glob\n",
    "import pandas as pd\n",
    "import matplotlib.pyplot as plt\n",
    "import random\n",
    "from itertools import combinations"
   ]
  },
  {
   "attachments": {},
   "cell_type": "markdown",
   "metadata": {},
   "source": [
    "Note that the Chopin_Mazurkas folder can be found in '/mnt/data0/Datasets/Chopin_Mazurkas'"
   ]
  },
  {
   "cell_type": "code",
   "execution_count": 45,
   "metadata": {},
   "outputs": [],
   "source": [
    "ANNOTATIONS_ROOT = Path('Chopin_Mazurkas/annotations_beat')\n",
    "AUDIO_ROOT = Path('Chopin_Mazurkas/wav_22050_mono')\n",
    "FEATURES_ROOT = Path('features')\n",
    "train_files = Path('cfg_files/train.txt')\n",
    "test_files = Path('cfg_files/test.txt')"
   ]
  },
  {
   "attachments": {},
   "cell_type": "markdown",
   "metadata": {},
   "source": [
    "## Create filelists text files"
   ]
  },
  {
   "cell_type": "code",
   "execution_count": 46,
   "metadata": {},
   "outputs": [],
   "source": [
    "def get_combinations(piece, filelist, seed=42):\n",
    "    \"\"\"\n",
    "    For a given piece (ie. Chopin_Op017No4), return a list\n",
    "    of tuples of all pair wise combinations between performances.\n",
    "    \"\"\"\n",
    "    performances = []\n",
    "    with open(filelist, 'r') as infile:\n",
    "        for performance in infile:\n",
    "            if piece in performance:\n",
    "                performances.append(performance.split())\n",
    "    pairs = list(combinations(performances, 2))\n",
    "    random.seed(seed)\n",
    "    random.shuffle(pairs)\n",
    "    return pairs"
   ]
  },
  {
   "cell_type": "code",
   "execution_count": 47,
   "metadata": {},
   "outputs": [],
   "source": [
    "train_pairs = get_combinations('Chopin_Op017No4', train_files) + get_combinations('Chopin_Op063No3', train_files)\n",
    "test_pairs = get_combinations('Chopin_Op024No2', test_files) + get_combinations('Chopin_Op030No2', test_files) + get_combinations('Chopin_Op068No3', test_files)"
   ]
  },
  {
   "cell_type": "code",
   "execution_count": 48,
   "metadata": {},
   "outputs": [],
   "source": [
    "def create_file_list(pairs, outdir, limit=None):\n",
    "    \"\"\" Save pairs to *.txt file \"\"\"\n",
    "    if limit:\n",
    "        pairs = pairs[:limit]\n",
    "    with open(outdir, 'w') as o:\n",
    "        for a, b in pairs:\n",
    "            o.write(f\"{a[0]} {b[0]}\\n\")"
   ]
  },
  {
   "cell_type": "code",
   "execution_count": 49,
   "metadata": {},
   "outputs": [],
   "source": [
    "# train-toy: randomly select 5 pairs from Op 17 #4\n",
    "create_file_list(train_pairs, 'cfg_files/train_toy.txt', 5)\n",
    "# train-small: randomly select 200 pairs from Op 17 #4\n",
    "create_file_list(train_pairs, 'cfg_files/train_small.txt', 200)\n",
    "# train-medium: includes all (63 choose 2) pairs for Op 17 #4\n",
    "create_file_list(train_pairs, 'cfg_files/train_medium.txt', 1953)\n",
    "# train-full: includes all (63 choose 2) + (88, choose 2) pairs for Op 17 #4 and Op 63 #3\n",
    "create_file_list(train_pairs, 'cfg_files/train_full.txt')\n",
    "# test-full: includes all pairs from the 3 test Mazurkas\n",
    "create_file_list(test_pairs, 'cfg_files/test_full.txt')"
   ]
  },
  {
   "attachments": {},
   "cell_type": "markdown",
   "metadata": {},
   "source": [
    "## Delete exceptional pieces"
   ]
  },
  {
   "cell_type": "code",
   "execution_count": 50,
   "metadata": {},
   "outputs": [],
   "source": [
    "try:\n",
    "    os.remove(\"./Chopin_Mazurkas/wav_22050_mono/Chopin_Op017No4/Chopin_Op017No4_Ginzburg-1957_pid9156-10.wav\")\n",
    "    print(\"Removed Chopin_Op017No4/Chopin_Op017No4_Ginzburg-1957_pid9156-10\")\n",
    "except OSError:\n",
    "    pass\n",
    "try:\n",
    "    os.remove(\"./Chopin_Mazurkas/wav_22050_mono/Chopin_Op068No3/Chopin_Op068No3_Koczalski-1948_pid9140-05.wav\")\n",
    "    print(\"Removed Chopin_Op068No3_Koczalski-1948_pid9140-05\")\n",
    "except OSError:\n",
    "    pass"
   ]
  },
  {
   "cell_type": "markdown",
   "metadata": {},
   "source": [
    "## Split into two training sets"
   ]
  },
  {
   "cell_type": "code",
   "execution_count": 51,
   "metadata": {},
   "outputs": [],
   "source": [
    "filelists = [\"train_toy\", \"train_small\", \"train_medium\", \"train_full\", \"test_full\"]\n",
    "\n",
    "Path('cfg_files/split1').mkdir(parents=True, exist_ok=True)\n",
    "Path('cfg_files/split2').mkdir(parents=True, exist_ok=True)\n",
    "\n",
    "def split_file(filelist):\n",
    "\n",
    "    with open(f'cfg_files/{filelist}.txt', 'r') as i:\n",
    "        lines = i.readlines()\n",
    "\n",
    "    index = len(lines) // 2\n",
    "    split1, split2 = lines[:index], lines[index:]\n",
    "\n",
    "    with open(f'cfg_files/split1/{filelist}.txt', 'w') as o:\n",
    "        for line in split1:\n",
    "            o.write(line)\n",
    "\n",
    "    with open(f'cfg_files/split2/{filelist}.txt', 'w') as o:\n",
    "        for line in split2:\n",
    "            o.write(line)\n",
    "\n",
    "for filelist in filelists:\n",
    "    split_file(filelist)"
   ]
  },
  {
   "attachments": {},
   "cell_type": "markdown",
   "metadata": {},
   "source": [
    "## Find median duration for each piece"
   ]
  },
  {
   "cell_type": "code",
   "execution_count": 52,
   "metadata": {},
   "outputs": [],
   "source": [
    "def get_median():\n",
    "    medians = {}\n",
    "    dirs = glob.glob('Chopin_Mazurkas/wav_22050_mono/*/**/', recursive=True)\n",
    "    for dir in dirs:\n",
    "        piece = os.path.split(os.path.normpath(dir))[-1]\n",
    "        performances = glob.glob(f'{dir}*.wav', recursive=True)\n",
    "        durations = [lb.get_duration(filename=path) for path in performances]\n",
    "        durations.sort()\n",
    "        medians[piece] = durations[len(durations)//2]\n",
    "    return medians"
   ]
  },
  {
   "cell_type": "code",
   "execution_count": 53,
   "metadata": {},
   "outputs": [
    {
     "data": {
      "text/plain": [
       "{'Chopin_Op030No2': 87.30149659863946,\n",
       " 'Chopin_Op063No3': 128.22149659863945,\n",
       " 'Chopin_Op068No3': 99.64816326530612,\n",
       " 'Chopin_Op024No2': 136.6748299319728,\n",
       " 'Chopin_Op017No4': 254.92816326530613}"
      ]
     },
     "execution_count": 53,
     "metadata": {},
     "output_type": "execute_result"
    }
   ],
   "source": [
    "medians = get_median()\n",
    "medians"
   ]
  },
  {
   "attachments": {},
   "cell_type": "markdown",
   "metadata": {},
   "source": [
    "## Construct modified benchmark datasets"
   ]
  },
  {
   "attachments": {},
   "cell_type": "markdown",
   "metadata": {},
   "source": [
    "#### Create separate directories for each dataset"
   ]
  },
  {
   "cell_type": "code",
   "execution_count": 54,
   "metadata": {},
   "outputs": [],
   "source": [
    "def create_mazurka_directories(factors, subseq=None): # subseq is used for creating the subsequence dataset folders\n",
    "    '''create separate directories for each time scale modification'''\n",
    "    for factor in factors:\n",
    "        dir = None\n",
    "        if subseq:\n",
    "            dir = f'Mazurkas_median_x{factor}_subseq{subseq}'\n",
    "        else:\n",
    "            dir = f'Mazurkas_median_x{factor}'\n",
    "        ann_dir = f'{dir}/annotations_beat'\n",
    "        wav_dir = f'{dir}/wav_22050_mono'\n",
    "        for mazurka in ['Chopin_Op017No4','Chopin_Op024No2','Chopin_Op030No2','Chopin_Op063No3','Chopin_Op068No3']:\n",
    "            ann_piece_dir = f'{ann_dir}/{mazurka}'\n",
    "            wav_piece_dir = f'{wav_dir}/{mazurka}'\n",
    "            if not os.path.exists(ann_piece_dir):\n",
    "                os.makedirs(ann_piece_dir)\n",
    "            if not os.path.exists(wav_piece_dir):\n",
    "                os.makedirs(wav_piece_dir)"
   ]
  },
  {
   "cell_type": "code",
   "execution_count": 55,
   "metadata": {},
   "outputs": [],
   "source": [
    "factors = ['1.000','0.500','0.630','0.794','1.260','1.588','2.000']\n",
    "create_mazurka_directories(factors, subseq=None)"
   ]
  },
  {
   "attachments": {},
   "cell_type": "markdown",
   "metadata": {},
   "source": [
    "## Perform time-scale modification"
   ]
  },
  {
   "attachments": {},
   "cell_type": "markdown",
   "metadata": {},
   "source": [
    "##### Generate .wav files"
   ]
  },
  {
   "cell_type": "code",
   "execution_count": 56,
   "metadata": {},
   "outputs": [],
   "source": [
    "import soundfile as sf\n",
    "import IPython.display as ipd\n",
    "from tsm_tools import *\n",
    "import pandas as pd"
   ]
  },
  {
   "cell_type": "code",
   "execution_count": 57,
   "metadata": {},
   "outputs": [],
   "source": [
    "def time_scale_single(path_to_wav, median_duration, factor, outdir):\n",
    "    '''time-scale modify for one .wav file'''\n",
    "    y, sr = lb.load(path_to_wav)\n",
    "    old_duration = lb.get_duration(y=y, sr=sr)\n",
    "    ratio = (median_duration * factor) / old_duration\n",
    "    y_mod = tsm_hybrid(y, alpha=ratio) # time scale modification\n",
    "    new_path = f'{outdir}{path_to_wav[15:]}' # e.g. 'Mazurkas_median_x1.000/wav_22050_mono/Chopin_Op017No4/Chopin_Op017No4_Kitain-1937_pid9163-02.wav'\n",
    "    sf.write(new_path, y_mod, sr)\n",
    "    return"
   ]
  },
  {
   "cell_type": "code",
   "execution_count": 58,
   "metadata": {},
   "outputs": [],
   "source": [
    "def time_scale_batch(filelist, piece, median_duration, factor, outdir, n_cores=40):\n",
    "    '''time-scale modify for all .wav files for one mazurka for one factor'''\n",
    "    inputs = []\n",
    "    with open(filelist, 'r') as file:\n",
    "        for line in file:\n",
    "            if piece in line:\n",
    "                # make path to .wav file\n",
    "                path_to_wav = f'Chopin_Mazurkas/wav_22050_mono/{line[:-1]}.wav'\n",
    "                inputs.append((path_to_wav, median_duration, factor, outdir))\n",
    "    # process files in parallel\n",
    "    pool = multiprocessing.Pool(processes=n_cores)\n",
    "    pool.starmap(time_scale_single, inputs)"
   ]
  },
  {
   "cell_type": "code",
   "execution_count": 59,
   "metadata": {},
   "outputs": [],
   "source": [
    "def time_scale_by_mazurka(filelist, piece, median_duration, factors):\n",
    "    '''time-scale modify by all factors with one mazurka'''\n",
    "    for factor in factors:\n",
    "        time_scale_batch(filelist, piece, median_duration, float(factor),'Mazurkas_median_x{}'.format(factor))\n",
    "        print(f\"Done with Mazurkas_median_x{factor}/{piece}\")"
   ]
  },
  {
   "cell_type": "code",
   "execution_count": 60,
   "metadata": {},
   "outputs": [
    {
     "name": "stdout",
     "output_type": "stream",
     "text": [
      "Done with Mazurkas_median_x1.000/Chopin_Op017No4\n",
      "Done with Mazurkas_median_x0.500/Chopin_Op017No4\n",
      "Done with Mazurkas_median_x0.630/Chopin_Op017No4\n",
      "Done with Mazurkas_median_x0.794/Chopin_Op017No4\n",
      "Done with Mazurkas_median_x1.260/Chopin_Op017No4\n",
      "Done with Mazurkas_median_x1.588/Chopin_Op017No4\n",
      "Done with Mazurkas_median_x2.000/Chopin_Op017No4\n",
      "Done with Mazurkas_median_x1.000/Chopin_Op063No3\n",
      "Done with Mazurkas_median_x0.500/Chopin_Op063No3\n",
      "Done with Mazurkas_median_x0.630/Chopin_Op063No3\n",
      "Done with Mazurkas_median_x0.794/Chopin_Op063No3\n",
      "Done with Mazurkas_median_x1.260/Chopin_Op063No3\n",
      "Done with Mazurkas_median_x1.588/Chopin_Op063No3\n",
      "Done with Mazurkas_median_x2.000/Chopin_Op063No3\n",
      "Done with Mazurkas_median_x1.000/Chopin_Op024No2\n",
      "Done with Mazurkas_median_x0.500/Chopin_Op024No2\n",
      "Done with Mazurkas_median_x0.630/Chopin_Op024No2\n",
      "Done with Mazurkas_median_x0.794/Chopin_Op024No2\n",
      "Done with Mazurkas_median_x1.260/Chopin_Op024No2\n",
      "Done with Mazurkas_median_x1.588/Chopin_Op024No2\n",
      "Done with Mazurkas_median_x2.000/Chopin_Op024No2\n",
      "Done with Mazurkas_median_x1.000/Chopin_Op030No2\n",
      "Done with Mazurkas_median_x0.500/Chopin_Op030No2\n",
      "Done with Mazurkas_median_x0.630/Chopin_Op030No2\n",
      "Done with Mazurkas_median_x0.794/Chopin_Op030No2\n",
      "Done with Mazurkas_median_x1.260/Chopin_Op030No2\n",
      "Done with Mazurkas_median_x1.588/Chopin_Op030No2\n",
      "Done with Mazurkas_median_x2.000/Chopin_Op030No2\n",
      "Done with Mazurkas_median_x1.000/Chopin_Op068No3\n",
      "Done with Mazurkas_median_x0.500/Chopin_Op068No3\n",
      "Done with Mazurkas_median_x0.630/Chopin_Op068No3\n",
      "Done with Mazurkas_median_x0.794/Chopin_Op068No3\n",
      "Done with Mazurkas_median_x1.260/Chopin_Op068No3\n",
      "Done with Mazurkas_median_x1.588/Chopin_Op068No3\n",
      "Done with Mazurkas_median_x2.000/Chopin_Op068No3\n"
     ]
    }
   ],
   "source": [
    "time_scale_by_mazurka(train_files, 'Chopin_Op017No4', medians[\"Chopin_Op017No4\"], factors)\n",
    "time_scale_by_mazurka(train_files, 'Chopin_Op063No3', medians[\"Chopin_Op063No3\"], factors)\n",
    "time_scale_by_mazurka(test_files, 'Chopin_Op024No2', medians[\"Chopin_Op024No2\"], factors)\n",
    "time_scale_by_mazurka(test_files, 'Chopin_Op030No2', medians[\"Chopin_Op030No2\"], factors)\n",
    "time_scale_by_mazurka(test_files, 'Chopin_Op068No3', medians[\"Chopin_Op068No3\"], factors)"
   ]
  },
  {
   "attachments": {},
   "cell_type": "markdown",
   "metadata": {},
   "source": [
    "## Generate .beat files"
   ]
  },
  {
   "cell_type": "code",
   "execution_count": 61,
   "metadata": {},
   "outputs": [],
   "source": [
    "def getTimestamps(annotfile):\n",
    "    df = pd.read_csv(annotfile, header=None, sep='\\s+', skiprows=3)\n",
    "    return np.array(df[0])"
   ]
  },
  {
   "cell_type": "code",
   "execution_count": 62,
   "metadata": {},
   "outputs": [],
   "source": [
    "def create_beat_annotation(in_path_beat, in_path_wav, out_path, num_multiply): # num_multiply should be median*factor\n",
    "    '''modifies beat annotations for one .wav file'''\n",
    "    real_duration = lb.get_duration(filename=in_path_wav) # load .wav file to get original duration\n",
    "    original_ts = getTimestamps(in_path_beat) # (median * factor) / real_dur\n",
    "    modified_ts = (original_ts * num_multiply) / real_duration\n",
    "    index = 0\n",
    "    curr_read = 0\n",
    "    new_lines = []\n",
    "    with open(in_path_beat, 'r') as infile:\n",
    "        for line in infile:\n",
    "            if curr_read < 3: # copy first 3 lines\n",
    "                new_lines.append(line)\n",
    "                curr_read += 1\n",
    "                continue\n",
    "            else: # modify the rest of the lines\n",
    "                label = line.split('\\t')[-1]\n",
    "                if index+1 == len(modified_ts):\n",
    "                    curr_start, curr_end = modified_ts[index], 0.0\n",
    "                else:\n",
    "                    curr_start, curr_end = modified_ts[index], modified_ts[index+1]\n",
    "                new_string = '{}\\t{}\\t{}'.format(curr_start, curr_end, label)\n",
    "                new_lines.append(new_string)\n",
    "                index += 1\n",
    "    with open(out_path, 'w') as outfile:\n",
    "        for line in new_lines:\n",
    "            outfile.write(line)\n",
    "    return new_lines"
   ]
  },
  {
   "cell_type": "code",
   "execution_count": 63,
   "metadata": {},
   "outputs": [],
   "source": [
    "def create_beat_annotation_batch(filelist, piece, median_duration, factor, n_cores=40): # e.g. outdir is 'Mazurkas_median_x2.000/annotations_beat/Chopin_Op017No4'\n",
    "    '''modifies beat annotations for all .wav files for one Mazurka for one factor'''\n",
    "    inputs = []\n",
    "    with open(filelist, 'r') as cfg_file:\n",
    "        for line in cfg_file:\n",
    "            if piece in line:\n",
    "                path_to_beat = f'Chopin_Mazurkas/annotations_beat/{line[:-1]}.beat'\n",
    "                path_to_wav = f'Chopin_Mazurkas/wav_22050_mono/{line[:-1]}.wav'\n",
    "                out_path = f'Mazurkas_median_x{factor}/annotations_beat/{line[:-1]}.beat'\n",
    "                num_multiply = median_duration * float(factor)\n",
    "                inputs.append((path_to_beat, path_to_wav, out_path, num_multiply))\n",
    "    # process files in parallel\n",
    "    pool = multiprocessing.Pool(processes = n_cores)\n",
    "    pool.starmap(create_beat_annotation, inputs)\n",
    "    return"
   ]
  },
  {
   "cell_type": "code",
   "execution_count": 64,
   "metadata": {},
   "outputs": [],
   "source": [
    "def beat_annotation_by_mazurka(filelist, piece, median_duration, factors):\n",
    "    '''modifies beat annotations by all factors with one mazurka'''\n",
    "    for factor in factors:\n",
    "        create_beat_annotation_batch(filelist, piece, median_duration, factor)\n",
    "        print(f\"Done with Mazurkas_median_x{factor}/annotations_beat/{piece}\")\n",
    "    return"
   ]
  },
  {
   "cell_type": "code",
   "execution_count": 65,
   "metadata": {},
   "outputs": [
    {
     "name": "stdout",
     "output_type": "stream",
     "text": [
      "Done with Mazurkas_median_x1.000/annotations_beat/Chopin_Op017No4\n",
      "Done with Mazurkas_median_x0.500/annotations_beat/Chopin_Op017No4\n",
      "Done with Mazurkas_median_x0.630/annotations_beat/Chopin_Op017No4\n",
      "Done with Mazurkas_median_x0.794/annotations_beat/Chopin_Op017No4\n",
      "Done with Mazurkas_median_x1.260/annotations_beat/Chopin_Op017No4\n",
      "Done with Mazurkas_median_x1.588/annotations_beat/Chopin_Op017No4\n",
      "Done with Mazurkas_median_x2.000/annotations_beat/Chopin_Op017No4\n",
      "Done with Mazurkas_median_x1.000/annotations_beat/Chopin_Op063No3\n",
      "Done with Mazurkas_median_x0.500/annotations_beat/Chopin_Op063No3\n",
      "Done with Mazurkas_median_x0.630/annotations_beat/Chopin_Op063No3\n",
      "Done with Mazurkas_median_x0.794/annotations_beat/Chopin_Op063No3\n",
      "Done with Mazurkas_median_x1.260/annotations_beat/Chopin_Op063No3\n",
      "Done with Mazurkas_median_x1.588/annotations_beat/Chopin_Op063No3\n",
      "Done with Mazurkas_median_x2.000/annotations_beat/Chopin_Op063No3\n",
      "Done with Mazurkas_median_x1.000/annotations_beat/Chopin_Op024No2\n",
      "Done with Mazurkas_median_x0.500/annotations_beat/Chopin_Op024No2\n",
      "Done with Mazurkas_median_x0.630/annotations_beat/Chopin_Op024No2\n",
      "Done with Mazurkas_median_x0.794/annotations_beat/Chopin_Op024No2\n",
      "Done with Mazurkas_median_x1.260/annotations_beat/Chopin_Op024No2\n",
      "Done with Mazurkas_median_x1.588/annotations_beat/Chopin_Op024No2\n",
      "Done with Mazurkas_median_x2.000/annotations_beat/Chopin_Op024No2\n",
      "Done with Mazurkas_median_x1.000/annotations_beat/Chopin_Op030No2\n",
      "Done with Mazurkas_median_x0.500/annotations_beat/Chopin_Op030No2\n",
      "Done with Mazurkas_median_x0.630/annotations_beat/Chopin_Op030No2\n",
      "Done with Mazurkas_median_x0.794/annotations_beat/Chopin_Op030No2\n",
      "Done with Mazurkas_median_x1.260/annotations_beat/Chopin_Op030No2\n",
      "Done with Mazurkas_median_x1.588/annotations_beat/Chopin_Op030No2\n",
      "Done with Mazurkas_median_x2.000/annotations_beat/Chopin_Op030No2\n",
      "Done with Mazurkas_median_x1.000/annotations_beat/Chopin_Op068No3\n",
      "Done with Mazurkas_median_x0.500/annotations_beat/Chopin_Op068No3\n",
      "Done with Mazurkas_median_x0.630/annotations_beat/Chopin_Op068No3\n",
      "Done with Mazurkas_median_x0.794/annotations_beat/Chopin_Op068No3\n",
      "Done with Mazurkas_median_x1.260/annotations_beat/Chopin_Op068No3\n",
      "Done with Mazurkas_median_x1.588/annotations_beat/Chopin_Op068No3\n",
      "Done with Mazurkas_median_x2.000/annotations_beat/Chopin_Op068No3\n"
     ]
    }
   ],
   "source": [
    "beat_annotation_by_mazurka(train_files, 'Chopin_Op017No4', medians[\"Chopin_Op017No4\"], factors)\n",
    "beat_annotation_by_mazurka(train_files, 'Chopin_Op063No3', medians[\"Chopin_Op063No3\"], factors)\n",
    "beat_annotation_by_mazurka(test_files, 'Chopin_Op024No2', medians[\"Chopin_Op024No2\"], factors)\n",
    "beat_annotation_by_mazurka(test_files, 'Chopin_Op030No2', medians[\"Chopin_Op030No2\"], factors)\n",
    "beat_annotation_by_mazurka(test_files, 'Chopin_Op068No3', medians[\"Chopin_Op068No3\"], factors)"
   ]
  },
  {
   "attachments": {},
   "cell_type": "markdown",
   "metadata": {},
   "source": [
    "### Compute features on all directories"
   ]
  },
  {
   "cell_type": "code",
   "execution_count": 66,
   "metadata": {},
   "outputs": [],
   "source": [
    "def compute_chroma_single(infile, outfile, sr=22050, hop_length=512):\n",
    "    y, sr = lb.core.load(infile, sr=sr)\n",
    "    F = lb.feature.chroma_cqt(y, sr=sr, hop_length=hop_length, norm=2)\n",
    "    np.save(outfile, F)\n",
    "    return"
   ]
  },
  {
   "cell_type": "code",
   "execution_count": 67,
   "metadata": {},
   "outputs": [],
   "source": [
    "def compute_chroma_batch(filelist, dir, outdir, n_cores=40): # outdir should be 'features/clean'\n",
    "    '''compute features for each median directory e.g. for all .wav files in 'Mazurkas_median_x0.500' '''\n",
    "    inputs = [] # prep inputs for parallelization\n",
    "    with open(filelist, 'r') as f:\n",
    "        for line in f:\n",
    "            relpath = line.strip()\n",
    "            reldir, fileid = os.path.split(relpath)\n",
    "            featdir = dir / outdir / reldir\n",
    "            featdir.mkdir(parents=True, exist_ok=True)\n",
    "            featfile = (featdir / fileid).with_suffix('.npy')\n",
    "            audiofile = (dir / Path('wav_22050_mono') / relpath).with_suffix('.wav')\n",
    "            if os.path.exists(featfile):\n",
    "                print(f\"Skipping {featfile}\")\n",
    "            else:\n",
    "                inputs.append((audiofile, featfile))\n",
    "    # process files in parallel\n",
    "    pool = multiprocessing.Pool(processes = n_cores)\n",
    "    pool.starmap(compute_chroma_single, inputs)\n",
    "    return"
   ]
  },
  {
   "cell_type": "code",
   "execution_count": 68,
   "metadata": {},
   "outputs": [],
   "source": [
    "FEATS_CLEAN_DIR = FEATURES_ROOT / 'clean'\n",
    "directories = ['Chopin_Mazurkas', 'Mazurkas_median_x0.500', 'Mazurkas_median_x0.630', 'Mazurkas_median_x0.794', 'Mazurkas_median_x1.000', 'Mazurkas_median_x1.260', 'Mazurkas_median_x1.588', 'Mazurkas_median_x2.000']"
   ]
  },
  {
   "cell_type": "code",
   "execution_count": 69,
   "metadata": {},
   "outputs": [
    {
     "name": "stdout",
     "output_type": "stream",
     "text": [
      "Skipping Chopin_Mazurkas/features/clean/Chopin_Op017No4/Chopin_Op017No4_Afanassiev-2001_pid9130-01.npy\n",
      "Skipping Chopin_Mazurkas/features/clean/Chopin_Op017No4/Chopin_Op017No4_Ashkenazy-1981_pid9058-13.npy\n",
      "Skipping Chopin_Mazurkas/features/clean/Chopin_Op017No4/Chopin_Op017No4_Beliavsky-2004_pid9152-13.npy\n",
      "Skipping Chopin_Mazurkas/features/clean/Chopin_Op017No4/Chopin_Op017No4_Ben-Or-1989_pid9161-12.npy\n",
      "Skipping Chopin_Mazurkas/features/clean/Chopin_Op017No4/Chopin_Op017No4_Biret-1990_pid9062-13.npy\n",
      "Skipping Chopin_Mazurkas/features/clean/Chopin_Op017No4/Chopin_Op017No4_Blet-2003_pid9103-07.npy\n",
      "Skipping Chopin_Mazurkas/features/clean/Chopin_Op017No4/Chopin_Op017No4_Block-1995_pid9064-04.npy\n",
      "Skipping Chopin_Mazurkas/features/clean/Chopin_Op017No4/Chopin_Op017No4_Brailowsky-1960_pid9060-13.npy\n",
      "Skipping Chopin_Mazurkas/features/clean/Chopin_Op017No4/Chopin_Op017No4_Chiu-1999_pid9048-13.npy\n",
      "Skipping Chopin_Mazurkas/features/clean/Chopin_Op017No4/Chopin_Op017No4_Clidat-1994_pid9067-13.npy\n",
      "Skipping Chopin_Mazurkas/features/clean/Chopin_Op017No4/Chopin_Op017No4_Cohen-1997_pid9105-13.npy\n",
      "Skipping Chopin_Mazurkas/features/clean/Chopin_Op017No4/Chopin_Op017No4_Coop-1987_pid9159-04.npy\n",
      "Skipping Chopin_Mazurkas/features/clean/Chopin_Op017No4/Chopin_Op017No4_Cortot-1951_pid9066-13.npy\n",
      "Skipping Chopin_Mazurkas/features/clean/Chopin_Op017No4/Chopin_Op017No4_Czerny-Stefanska-1949_pid9085-15.npy\n",
      "Skipping Chopin_Mazurkas/features/clean/Chopin_Op017No4/Chopin_Op017No4_Czerny-Stefanska-1949_pid9086-07.npy\n",
      "Skipping Chopin_Mazurkas/features/clean/Chopin_Op017No4/Chopin_Op017No4_Ezaki-2006_pid9139-13.npy\n",
      "Skipping Chopin_Mazurkas/features/clean/Chopin_Op017No4/Chopin_Op017No4_Falvay-1989_pid9068-08.npy\n",
      "Skipping Chopin_Mazurkas/features/clean/Chopin_Op017No4/Chopin_Op017No4_Ferenczy-1958_pid9097-17.npy\n",
      "Skipping Chopin_Mazurkas/features/clean/Chopin_Op017No4/Chopin_Op017No4_Fiorentino-1990_pid9065-08.npy\n",
      "Skipping Chopin_Mazurkas/features/clean/Chopin_Op017No4/Chopin_Op017No4_Fliere-1977_pid9063-13.npy\n",
      "Skipping Chopin_Mazurkas/features/clean/Chopin_Op017No4/Chopin_Op017No4_Fou-1978_pid9071-20.npy\n",
      "Skipping Chopin_Mazurkas/features/clean/Chopin_Op017No4/Chopin_Op017No4_Francois-1956_pid9070-21.npy\n",
      "Skipping Chopin_Mazurkas/features/clean/Chopin_Op017No4/Chopin_Op017No4_Hatto-2006_pid9073-15.npy\n",
      "Skipping Chopin_Mazurkas/features/clean/Chopin_Op017No4/Chopin_Op017No4_Horowitz-1971_pid59340c-06.npy\n",
      "Skipping Chopin_Mazurkas/features/clean/Chopin_Op017No4/Chopin_Op017No4_Horowitz-1985_pid50534-05.npy\n",
      "Skipping Chopin_Mazurkas/features/clean/Chopin_Op017No4/Chopin_Op017No4_Indjic-1988_pid9050-13.npy\n",
      "Skipping Chopin_Mazurkas/features/clean/Chopin_Op017No4/Chopin_Op017No4_Kapell-1951_pid9090-06.npy\n",
      "Skipping Chopin_Mazurkas/features/clean/Chopin_Op017No4/Chopin_Op017No4_Kiepura-1999_pid9098-20.npy\n",
      "Skipping Chopin_Mazurkas/features/clean/Chopin_Op017No4/Chopin_Op017No4_Kilenyi-1937_pid9164-13.npy\n",
      "Skipping Chopin_Mazurkas/features/clean/Chopin_Op017No4/Chopin_Op017No4_Kissin-1993_pid9056-15.npy\n",
      "Skipping Chopin_Mazurkas/features/clean/Chopin_Op017No4/Chopin_Op017No4_Kitain-1937_pid9163-02.npy\n",
      "Skipping Chopin_Mazurkas/features/clean/Chopin_Op017No4/Chopin_Op017No4_Kushner-1990_pid9118-13.npy\n",
      "Skipping Chopin_Mazurkas/features/clean/Chopin_Op017No4/Chopin_Op017No4_Levy-1951_pid915406-13.npy\n",
      "Skipping Chopin_Mazurkas/features/clean/Chopin_Op017No4/Chopin_Op017No4_Luisada-1990_pid9055-13.npy\n",
      "Skipping Chopin_Mazurkas/features/clean/Chopin_Op017No4/Chopin_Op017No4_Lushtak-2004_pid9088-08.npy\n",
      "Skipping Chopin_Mazurkas/features/clean/Chopin_Op017No4/Chopin_Op017No4_Lympany-1968_pid9160-02.npy\n",
      "Skipping Chopin_Mazurkas/features/clean/Chopin_Op017No4/Chopin_Op017No4_Magaloff-1977_pid5667267b-10.npy\n",
      "Skipping Chopin_Mazurkas/features/clean/Chopin_Op017No4/Chopin_Op017No4_Magaloff-1977_pid9074f-13.npy\n",
      "Skipping Chopin_Mazurkas/features/clean/Chopin_Op017No4/Chopin_Op017No4_Magin-1975_pid9138-13.npy\n",
      "Skipping Chopin_Mazurkas/features/clean/Chopin_Op017No4/Chopin_Op017No4_Milkina-1970_pid9099-13.npy\n",
      "Skipping Chopin_Mazurkas/features/clean/Chopin_Op017No4/Chopin_Op017No4_Mohovich-1999_pid9104-13.npy\n",
      "Skipping Chopin_Mazurkas/features/clean/Chopin_Op017No4/Chopin_Op017No4_Nadelmann-1956_pid9165-04.npy\n",
      "Skipping Chopin_Mazurkas/features/clean/Chopin_Op017No4/Chopin_Op017No4_Ohlsson-1999_pid9153-13.npy\n",
      "Skipping Chopin_Mazurkas/features/clean/Chopin_Op017No4/Chopin_Op017No4_Olejniczac-1990_pid9100b-17.npy\n",
      "Skipping Chopin_Mazurkas/features/clean/Chopin_Op017No4/Chopin_Op017No4_Olejniczak-1991_pid9087-07.npy\n",
      "Skipping Chopin_Mazurkas/features/clean/Chopin_Op017No4/Chopin_Op017No4_Osinska-1989_pid9101-13.npy\n",
      "Skipping Chopin_Mazurkas/features/clean/Chopin_Op017No4/Chopin_Op017No4_Paderewski-1912_pid5667274-09.npy\n",
      "Skipping Chopin_Mazurkas/features/clean/Chopin_Op017No4/Chopin_Op017No4_Perahia-1994_pid54293-09.npy\n",
      "Skipping Chopin_Mazurkas/features/clean/Chopin_Op017No4/Chopin_Op017No4_Perlemuter-1986_pid9089-15.npy\n",
      "Skipping Chopin_Mazurkas/features/clean/Chopin_Op017No4/Chopin_Op017No4_Poblocka-1999_pid9093-13.npy\n",
      "Skipping Chopin_Mazurkas/features/clean/Chopin_Op017No4/Chopin_Op017No4_Rangell-2001_pid9094-13.npy\n",
      "Skipping Chopin_Mazurkas/features/clean/Chopin_Op017No4/Chopin_Op017No4_Risler-1920_pid9132-11.npy\n",
      "Skipping Chopin_Mazurkas/features/clean/Chopin_Op017No4/Chopin_Op017No4_Rosen-1989_pid52932-06.npy\n",
      "Skipping Chopin_Mazurkas/features/clean/Chopin_Op017No4/Chopin_Op017No4_Rubinstein-1939_pid9049-13.npy\n",
      "Skipping Chopin_Mazurkas/features/clean/Chopin_Op017No4/Chopin_Op017No4_Rubinstein-1952_pid9075-13.npy\n",
      "Skipping Chopin_Mazurkas/features/clean/Chopin_Op017No4/Chopin_Op017No4_Rubinstein-1966_pid9059-13.npy\n",
      "Skipping Chopin_Mazurkas/features/clean/Chopin_Op017No4/Chopin_Op017No4_Rummel-1943_pid54851-12.npy\n",
      "Skipping Chopin_Mazurkas/features/clean/Chopin_Op017No4/Chopin_Op017No4_Shebanova-2002_pid9072-13.npy\n",
      "Skipping Chopin_Mazurkas/features/clean/Chopin_Op017No4/Chopin_Op017No4_Smith-1975_pid9054-13.npy\n",
      "Skipping Chopin_Mazurkas/features/clean/Chopin_Op017No4/Chopin_Op017No4_Szpilman-1948_pid9147-12.npy\n",
      "Skipping Chopin_Mazurkas/features/clean/Chopin_Op017No4/Chopin_Op017No4_Uninsky-1971_pid9061-13.npy\n",
      "Skipping Chopin_Mazurkas/features/clean/Chopin_Op017No4/Chopin_Op017No4_Wasowski-1980_pid9111-13.npy\n",
      "Skipping Chopin_Mazurkas/features/clean/Chopin_Op017No4/Chopin_Op017No4_Weissenberg-1971_pid9052b-09.npy\n",
      "Skipping Chopin_Mazurkas/features/clean/Chopin_Op063No3/Chopin_Op063No3_Afanassiev-2001_pid9130-11.npy\n",
      "Skipping Chopin_Mazurkas/features/clean/Chopin_Op063No3/Chopin_Op063No3_Anderszewski-2003_pid58917-06.npy\n",
      "Skipping Chopin_Mazurkas/features/clean/Chopin_Op063No3/Chopin_Op063No3_Ashkenazy-1981_pid9058b-12.npy\n",
      "Skipping Chopin_Mazurkas/features/clean/Chopin_Op063No3/Chopin_Op063No3_Bacha-2000_pid9166l-10.npy\n",
      "Skipping Chopin_Mazurkas/features/clean/Chopin_Op063No3/Chopin_Op063No3_Badura-Skoda-1965_pid915412b-21.npy\n",
      "Skipping Chopin_Mazurkas/features/clean/Chopin_Op063No3/Chopin_Op063No3_Barbosa-1983_pid9174b-12.npy\n",
      "Skipping Chopin_Mazurkas/features/clean/Chopin_Op063No3/Chopin_Op063No3_Biret-1990_pid9062b-15.npy\n",
      "Skipping Chopin_Mazurkas/features/clean/Chopin_Op063No3/Chopin_Op063No3_Blet-2003_pid9103-20.npy\n",
      "Skipping Chopin_Mazurkas/features/clean/Chopin_Op063No3/Chopin_Op063No3_Block-1995_pid9064-21.npy\n",
      "Skipping Chopin_Mazurkas/features/clean/Chopin_Op063No3/Chopin_Op063No3_Blumental-1952_pid9102-07.npy\n",
      "Skipping Chopin_Mazurkas/features/clean/Chopin_Op063No3/Chopin_Op063No3_Boshniakovich-1969_pid9127-06.npy\n",
      "Skipping Chopin_Mazurkas/features/clean/Chopin_Op063No3/Chopin_Op063No3_Brailowsky-1960_pid9060b-10.npy\n",
      "Skipping Chopin_Mazurkas/features/clean/Chopin_Op063No3/Chopin_Op063No3_Bunin-1987_pid9124-13.npy\n",
      "Skipping Chopin_Mazurkas/features/clean/Chopin_Op063No3/Chopin_Op063No3_Bunin-1987_pid918812-13.npy\n",
      "Skipping Chopin_Mazurkas/features/clean/Chopin_Op063No3/Chopin_Op063No3_Chiu-1999_pid9048b-16.npy\n",
      "Skipping Chopin_Mazurkas/features/clean/Chopin_Op063No3/Chopin_Op063No3_Cohen-1997_pid9069-12.npy\n",
      "Skipping Chopin_Mazurkas/features/clean/Chopin_Op063No3/Chopin_Op063No3_Cortot-1951_pid9066b-12.npy\n",
      "Skipping Chopin_Mazurkas/features/clean/Chopin_Op063No3/Chopin_Op063No3_Csalog-1996_pid1263b-12.npy\n",
      "Skipping Chopin_Mazurkas/features/clean/Chopin_Op063No3/Chopin_Op063No3_Czerny-Stefanska-1949_pid9085-16.npy\n",
      "Skipping Chopin_Mazurkas/features/clean/Chopin_Op063No3/Chopin_Op063No3_Czerny-Stefanska-1990_pid9192b-12.npy\n",
      "Skipping Chopin_Mazurkas/features/clean/Chopin_Op063No3/Chopin_Op063No3_Duchoud-2007_pid610633-01.npy\n",
      "Skipping Chopin_Mazurkas/features/clean/Chopin_Op063No3/Chopin_Op063No3_Ezaki-2006_pid9139b-12.npy\n",
      "Skipping Chopin_Mazurkas/features/clean/Chopin_Op063No3/Chopin_Op063No3_Falvay-1989_pid9068-20.npy\n",
      "Skipping Chopin_Mazurkas/features/clean/Chopin_Op063No3/Chopin_Op063No3_Farrell-1958_pid918805-02.npy\n",
      "Skipping Chopin_Mazurkas/features/clean/Chopin_Op063No3/Chopin_Op063No3_Ferenczy-1958_pid9097-24.npy\n",
      "Skipping Chopin_Mazurkas/features/clean/Chopin_Op063No3/Chopin_Op063No3_Fliere-1977_pid9063b-16.npy\n",
      "Skipping Chopin_Mazurkas/features/clean/Chopin_Op063No3/Chopin_Op063No3_Fou-1978_pid9071b-22.npy\n",
      "Skipping Chopin_Mazurkas/features/clean/Chopin_Op063No3/Chopin_Op063No3_Francois-1956_pid9070b-24.npy\n",
      "Skipping Chopin_Mazurkas/features/clean/Chopin_Op063No3/Chopin_Op063No3_Friedman-1923_pid9108-02.npy\n",
      "Skipping Chopin_Mazurkas/features/clean/Chopin_Op063No3/Chopin_Op063No3_Friedman-1923_pid9148-15.npy\n",
      "Skipping Chopin_Mazurkas/features/clean/Chopin_Op063No3/Chopin_Op063No3_Friedman-1930_pid5667230-16.npy\n",
      "Skipping Chopin_Mazurkas/features/clean/Chopin_Op063No3/Chopin_Op063No3_Garcia-Casas_pid610633-02.npy\n",
      "Skipping Chopin_Mazurkas/features/clean/Chopin_Op063No3/Chopin_Op063No3_Garcia-Casas_pid610633-07.npy\n",
      "Skipping Chopin_Mazurkas/features/clean/Chopin_Op063No3/Chopin_Op063No3_Gierzod-1998_pid9121-07.npy\n",
      "Skipping Chopin_Mazurkas/features/clean/Chopin_Op063No3/Chopin_Op063No3_Gornostaeva-1994_pid9116-20.npy\n",
      "Skipping Chopin_Mazurkas/features/clean/Chopin_Op063No3/Chopin_Op063No3_Groot-1988_pid9198h-18.npy\n",
      "Skipping Chopin_Mazurkas/features/clean/Chopin_Op063No3/Chopin_Op063No3_Harasiewicz-1955_pid9086-13.npy\n",
      "Skipping Chopin_Mazurkas/features/clean/Chopin_Op063No3/Chopin_Op063No3_Hatto-1993_pid610003b-16.npy\n",
      "Skipping Chopin_Mazurkas/features/clean/Chopin_Op063No3/Chopin_Op063No3_Hatto-2006_pid9073b-16.npy\n",
      "Skipping Chopin_Mazurkas/features/clean/Chopin_Op063No3/Chopin_Op063No3_Horowitz-1949_pid5667249-22.npy\n",
      "Skipping Chopin_Mazurkas/features/clean/Chopin_Op063No3/Chopin_Op063No3_Indjic-1988_pid9050b-12.npy\n",
      "Skipping Chopin_Mazurkas/features/clean/Chopin_Op063No3/Chopin_Op063No3_Kapell-1951_pid9090-21.npy\n",
      "Skipping Chopin_Mazurkas/features/clean/Chopin_Op063No3/Chopin_Op063No3_Kissin-1993_pid9056-07.npy\n",
      "Skipping Chopin_Mazurkas/features/clean/Chopin_Op063No3/Chopin_Op063No3_Kushner-1989_pid9118b-16.npy\n",
      "Skipping Chopin_Mazurkas/features/clean/Chopin_Op063No3/Chopin_Op063No3_Luisada-1991_pid9055b-12.npy\n",
      "Skipping Chopin_Mazurkas/features/clean/Chopin_Op063No3/Chopin_Op063No3_Lushtak-2004_pid9088-22.npy\n",
      "Skipping Chopin_Mazurkas/features/clean/Chopin_Op063No3/Chopin_Op063No3_Magaloff-1978_pid9074g-12.npy\n",
      "Skipping Chopin_Mazurkas/features/clean/Chopin_Op063No3/Chopin_Op063No3_Magin-1975_pid9138b-12.npy\n",
      "Skipping Chopin_Mazurkas/features/clean/Chopin_Op063No3/Chopin_Op063No3_Malcuzynski-1961_pid918904-12.npy\n",
      "Skipping Chopin_Mazurkas/features/clean/Chopin_Op063No3/Chopin_Op063No3_Michalowski-1933_pid9083-16.npy\n",
      "Skipping Chopin_Mazurkas/features/clean/Chopin_Op063No3/Chopin_Op063No3_Milkina-1970_pid9099b-16.npy\n",
      "Skipping Chopin_Mazurkas/features/clean/Chopin_Op063No3/Chopin_Op063No3_Mohovich-1999_pid9104b-12.npy\n",
      "Skipping Chopin_Mazurkas/features/clean/Chopin_Op063No3/Chopin_Op063No3_Moravec-1969_pid5667271-05.npy\n",
      "Skipping Chopin_Mazurkas/features/clean/Chopin_Op063No3/Chopin_Op063No3_Morozova-2008_pid610633-04.npy\n",
      "Skipping Chopin_Mazurkas/features/clean/Chopin_Op063No3/Chopin_Op063No3_Neighaus-1950_pid9119-14.npy\n",
      "Skipping Chopin_Mazurkas/features/clean/Chopin_Op063No3/Chopin_Op063No3_Niedzielski-1931_pid919401-03.npy\n",
      "Skipping Chopin_Mazurkas/features/clean/Chopin_Op063No3/Chopin_Op063No3_Ohlsson-1999_pid9153b-12.npy\n",
      "Skipping Chopin_Mazurkas/features/clean/Chopin_Op063No3/Chopin_Op063No3_Osinska-1989_pid9101c-06.npy\n",
      "Skipping Chopin_Mazurkas/features/clean/Chopin_Op063No3/Chopin_Op063No3_Pachmann-1927_pid9110-09.npy\n",
      "Skipping Chopin_Mazurkas/features/clean/Chopin_Op063No3/Chopin_Op063No3_Paderewski-1930_pid5667274b-06.npy\n",
      "Skipping Chopin_Mazurkas/features/clean/Chopin_Op063No3/Chopin_Op063No3_Perlemuter-1992_pid9089-07.npy\n",
      "Skipping Chopin_Mazurkas/features/clean/Chopin_Op063No3/Chopin_Op063No3_Pierdomenico-2008_pid610633-03.npy\n",
      "Skipping Chopin_Mazurkas/features/clean/Chopin_Op063No3/Chopin_Op063No3_Poblocka-1999_pid9093b-18.npy\n",
      "Skipping Chopin_Mazurkas/features/clean/Chopin_Op063No3/Chopin_Op063No3_Rabcewiczowa-1932_pid9091-15.npy\n",
      "Skipping Chopin_Mazurkas/features/clean/Chopin_Op063No3/Chopin_Op063No3_Rachmaninoff-1923_pid9095-11.npy\n",
      "Skipping Chopin_Mazurkas/features/clean/Chopin_Op063No3/Chopin_Op063No3_Rangell-2001_pid9094b-12.npy\n",
      "Skipping Chopin_Mazurkas/features/clean/Chopin_Op063No3/Chopin_Op063No3_Richter-1976_pid9172-10.npy\n",
      "Skipping Chopin_Mazurkas/features/clean/Chopin_Op063No3/Chopin_Op063No3_Rosen-1989_pid52932-24.npy\n",
      "Skipping Chopin_Mazurkas/features/clean/Chopin_Op063No3/Chopin_Op063No3_Rosenthal-1930_pid9183-05.npy\n",
      "Skipping Chopin_Mazurkas/features/clean/Chopin_Op063No3/Chopin_Op063No3_Rosenthal-1931_pid9057j-07.npy\n",
      "Skipping Chopin_Mazurkas/features/clean/Chopin_Op063No3/Chopin_Op063No3_Rosenthal-1931_pid9141-09.npy\n",
      "Skipping Chopin_Mazurkas/features/clean/Chopin_Op063No3/Chopin_Op063No3_Rosenthal-1931_pid9183-11.npy\n",
      "Skipping Chopin_Mazurkas/features/clean/Chopin_Op063No3/Chopin_Op063No3_Rosenthal-1931_pid9183-12.npy\n",
      "Skipping Chopin_Mazurkas/features/clean/Chopin_Op063No3/Chopin_Op063No3_Rossi-2007_pid610633-05.npy\n",
      "Skipping Chopin_Mazurkas/features/clean/Chopin_Op063No3/Chopin_Op063No3_Rubinstein-1939_pid9049b-12.npy\n",
      "Skipping Chopin_Mazurkas/features/clean/Chopin_Op063No3/Chopin_Op063No3_Rubinstein-1952_pid9075b-12.npy\n",
      "Skipping Chopin_Mazurkas/features/clean/Chopin_Op063No3/Chopin_Op063No3_Rubinstein-1966_pid9059b-16.npy\n",
      "Skipping Chopin_Mazurkas/features/clean/Chopin_Op063No3/Chopin_Op063No3_Schilhawsky-1960_pid9129-17.npy\n",
      "Skipping Chopin_Mazurkas/features/clean/Chopin_Op063No3/Chopin_Op063No3_Shebanova-2002_pid9072b-16.npy\n",
      "Skipping Chopin_Mazurkas/features/clean/Chopin_Op063No3/Chopin_Op063No3_Smith-1975_pid9054b-12.npy\n",
      "Skipping Chopin_Mazurkas/features/clean/Chopin_Op063No3/Chopin_Op063No3_Sokolov-2002_pid610633-06.npy\n",
      "Skipping Chopin_Mazurkas/features/clean/Chopin_Op063No3/Chopin_Op063No3_Sztompka-1959_pid9170b-12.npy\n",
      "Skipping Chopin_Mazurkas/features/clean/Chopin_Op063No3/Chopin_Op063No3_Tomsic-1995_pid9190-09.npy\n",
      "Skipping Chopin_Mazurkas/features/clean/Chopin_Op063No3/Chopin_Op063No3_Uninsky-1932_pid9085-11.npy\n",
      "Skipping Chopin_Mazurkas/features/clean/Chopin_Op063No3/Chopin_Op063No3_Uninsky-1971_pid9061b-09.npy\n",
      "Skipping Chopin_Mazurkas/features/clean/Chopin_Op063No3/Chopin_Op063No3_Wasowski-1980_pid9111b-14.npy\n",
      "Skipping Chopin_Mazurkas/features/clean/Chopin_Op063No3/Chopin_Op063No3_Zak-1937_pid9085-12.npy\n",
      "Skipping Chopin_Mazurkas/features/clean/Chopin_Op063No3/Chopin_Op063No3_Zak-1951_pid918713-20.npy\n",
      "Skipping Chopin_Mazurkas/features/clean/Chopin_Op024No2/Chopin_Op024No2_Ashkenazy-1981_pid9058-15.npy\n",
      "Skipping Chopin_Mazurkas/features/clean/Chopin_Op024No2/Chopin_Op024No2_Ax-1985_pid9179-07.npy\n",
      "Skipping Chopin_Mazurkas/features/clean/Chopin_Op024No2/Chopin_Op024No2_Bacha-1998_pid9166e-08.npy\n",
      "Skipping Chopin_Mazurkas/features/clean/Chopin_Op024No2/Chopin_Op024No2_Barbosa-1983_pid9174-15.npy\n",
      "Skipping Chopin_Mazurkas/features/clean/Chopin_Op024No2/Chopin_Op024No2_Ben-Or-1989_pid9161-13.npy\n",
      "Skipping Chopin_Mazurkas/features/clean/Chopin_Op024No2/Chopin_Op024No2_Biret-1990_pid9062-15.npy\n",
      "Skipping Chopin_Mazurkas/features/clean/Chopin_Op024No2/Chopin_Op024No2_Brailowsky-1960_pid9060-15.npy\n",
      "Skipping Chopin_Mazurkas/features/clean/Chopin_Op024No2/Chopin_Op024No2_Chiu-1999_pid9048-15.npy\n",
      "Skipping Chopin_Mazurkas/features/clean/Chopin_Op024No2/Chopin_Op024No2_Clidat-1994_pid9067-15.npy\n",
      "Skipping Chopin_Mazurkas/features/clean/Chopin_Op024No2/Chopin_Op024No2_Cohen-1997_pid9105-15.npy\n",
      "Skipping Chopin_Mazurkas/features/clean/Chopin_Op024No2/Chopin_Op024No2_Cortot-1951_pid9066-15.npy\n",
      "Skipping Chopin_Mazurkas/features/clean/Chopin_Op024No2/Chopin_Op024No2_Csalog-1996_pid1263-15.npy\n",
      "Skipping Chopin_Mazurkas/features/clean/Chopin_Op024No2/Chopin_Op024No2_Czerny-Stefanska-1989_pid9192-15.npy\n",
      "Skipping Chopin_Mazurkas/features/clean/Chopin_Op024No2/Chopin_Op024No2_Ezaki-2006_pid9139-15.npy\n",
      "Skipping Chopin_Mazurkas/features/clean/Chopin_Op024No2/Chopin_Op024No2_Falvay-1989_pid9068-10.npy\n",
      "Skipping Chopin_Mazurkas/features/clean/Chopin_Op024No2/Chopin_Op024No2_Fiorentino-1961_pid9065-10.npy\n",
      "Skipping Chopin_Mazurkas/features/clean/Chopin_Op024No2/Chopin_Op024No2_Fliere-1977_pid9063-15.npy\n",
      "Skipping Chopin_Mazurkas/features/clean/Chopin_Op024No2/Chopin_Op024No2_Fou-1978_pid9071-26.npy\n",
      "Skipping Chopin_Mazurkas/features/clean/Chopin_Op024No2/Chopin_Op024No2_Francois-1956_pid9070-23.npy\n",
      "Skipping Chopin_Mazurkas/features/clean/Chopin_Op024No2/Chopin_Op024No2_Goldenweiser-1946_pid917509-04.npy\n",
      "Skipping Chopin_Mazurkas/features/clean/Chopin_Op024No2/Chopin_Op024No2_Gornostaeva-1994_pid9116-06.npy\n",
      "Skipping Chopin_Mazurkas/features/clean/Chopin_Op024No2/Chopin_Op024No2_Groot-1988_pid9198g-15.npy\n",
      "Skipping Chopin_Mazurkas/features/clean/Chopin_Op024No2/Chopin_Op024No2_Hatto-1993_pid610003-17.npy\n",
      "Skipping Chopin_Mazurkas/features/clean/Chopin_Op024No2/Chopin_Op024No2_Hatto-2006_pid9073-17.npy\n",
      "Skipping Chopin_Mazurkas/features/clean/Chopin_Op024No2/Chopin_Op024No2_Horszowski-1983_pid9131-12.npy\n",
      "Skipping Chopin_Mazurkas/features/clean/Chopin_Op024No2/Chopin_Op024No2_Indjic-1988_pid9050-15.npy\n",
      "Skipping Chopin_Mazurkas/features/clean/Chopin_Op024No2/Chopin_Op024No2_Katin-1996_pid9126-03.npy\n",
      "Skipping Chopin_Mazurkas/features/clean/Chopin_Op024No2/Chopin_Op024No2_Kiepura-1999_pid9098-02.npy\n",
      "Skipping Chopin_Mazurkas/features/clean/Chopin_Op024No2/Chopin_Op024No2_Korecka-Soszkowska-1992_pid9128-11.npy\n",
      "Skipping Chopin_Mazurkas/features/clean/Chopin_Op024No2/Chopin_Op024No2_Kushner-1990_pid9118-15.npy\n",
      "Skipping Chopin_Mazurkas/features/clean/Chopin_Op024No2/Chopin_Op024No2_Lilamand-2001_pid9186c-15.npy\n",
      "Skipping Chopin_Mazurkas/features/clean/Chopin_Op024No2/Chopin_Op024No2_Luisada-1990_pid9055-15.npy\n",
      "Skipping Chopin_Mazurkas/features/clean/Chopin_Op024No2/Chopin_Op024No2_Luisada-2008_pid610242-01.npy\n",
      "Skipping Chopin_Mazurkas/features/clean/Chopin_Op024No2/Chopin_Op024No2_Lushtak-2004_pid9088-10.npy\n",
      "Skipping Chopin_Mazurkas/features/clean/Chopin_Op024No2/Chopin_Op024No2_Magaloff-1977_pid9074f-15.npy\n",
      "Skipping Chopin_Mazurkas/features/clean/Chopin_Op024No2/Chopin_Op024No2_Magin-1975_pid9138-15.npy\n",
      "Skipping Chopin_Mazurkas/features/clean/Chopin_Op024No2/Chopin_Op024No2_Malcuzynski-1951_pid9091-22.npy\n",
      "Skipping Chopin_Mazurkas/features/clean/Chopin_Op024No2/Chopin_Op024No2_Malcuzynski-1961_pid918904-03.npy\n",
      "Skipping Chopin_Mazurkas/features/clean/Chopin_Op024No2/Chopin_Op024No2_Meguri-1997_pid9137-09.npy\n",
      "Skipping Chopin_Mazurkas/features/clean/Chopin_Op024No2/Chopin_Op024No2_Milkina-1970_pid9099-15.npy\n",
      "Skipping Chopin_Mazurkas/features/clean/Chopin_Op024No2/Chopin_Op024No2_Mohovich-1999_pid9104-15.npy\n",
      "Skipping Chopin_Mazurkas/features/clean/Chopin_Op024No2/Chopin_Op024No2_Nezu-2005_pid9081-03.npy\n",
      "Skipping Chopin_Mazurkas/features/clean/Chopin_Op024No2/Chopin_Op024No2_Ohlsson-1999_pid9153-15.npy\n",
      "Skipping Chopin_Mazurkas/features/clean/Chopin_Op024No2/Chopin_Op024No2_Olejniczac-1990_pid9100b-11.npy\n",
      "Skipping Chopin_Mazurkas/features/clean/Chopin_Op024No2/Chopin_Op024No2_Osinska-1989_pid9101-15.npy\n",
      "Skipping Chopin_Mazurkas/features/clean/Chopin_Op024No2/Chopin_Op024No2_Perlemuter-1992_pid9089-08.npy\n",
      "Skipping Chopin_Mazurkas/features/clean/Chopin_Op024No2/Chopin_Op024No2_Poblocka-1999_pid9093-15.npy\n",
      "Skipping Chopin_Mazurkas/features/clean/Chopin_Op024No2/Chopin_Op024No2_Rangell-2001_pid9094-15.npy\n",
      "Skipping Chopin_Mazurkas/features/clean/Chopin_Op024No2/Chopin_Op024No2_Richter-1960_pid915410b-22.npy\n",
      "Skipping Chopin_Mazurkas/features/clean/Chopin_Op024No2/Chopin_Op024No2_Richter-1961_pid918722-04.npy\n",
      "Skipping Chopin_Mazurkas/features/clean/Chopin_Op024No2/Chopin_Op024No2_Rosen-1989_pid52932-08.npy\n",
      "Skipping Chopin_Mazurkas/features/clean/Chopin_Op024No2/Chopin_Op024No2_Rubinstein-1939_pid9049-15.npy\n",
      "Skipping Chopin_Mazurkas/features/clean/Chopin_Op024No2/Chopin_Op024No2_Rubinstein-1952_pid9075-15.npy\n",
      "Skipping Chopin_Mazurkas/features/clean/Chopin_Op024No2/Chopin_Op024No2_Rubinstein-1966_pid9059-15.npy\n",
      "Skipping Chopin_Mazurkas/features/clean/Chopin_Op024No2/Chopin_Op024No2_Rudanovskaya-2007_pid610242-02.npy\n",
      "Skipping Chopin_Mazurkas/features/clean/Chopin_Op024No2/Chopin_Op024No2_Shebanova-2002_pid9072-15.npy\n",
      "Skipping Chopin_Mazurkas/features/clean/Chopin_Op024No2/Chopin_Op024No2_Smith-1975_pid9054-15.npy\n",
      "Skipping Chopin_Mazurkas/features/clean/Chopin_Op024No2/Chopin_Op024No2_Sztompka-1959_pid9170-15.npy\n",
      "Skipping Chopin_Mazurkas/features/clean/Chopin_Op024No2/Chopin_Op024No2_Tanyel-1992_pid917813-03.npy\n",
      "Skipping Chopin_Mazurkas/features/clean/Chopin_Op024No2/Chopin_Op024No2_Tsujii-2005_pid9078-07.npy\n",
      "Skipping Chopin_Mazurkas/features/clean/Chopin_Op024No2/Chopin_Op024No2_Uninsky-1959_pid9061-15.npy\n",
      "Skipping Chopin_Mazurkas/features/clean/Chopin_Op024No2/Chopin_Op024No2_Vardi-1988_pid9173-20.npy\n",
      "Skipping Chopin_Mazurkas/features/clean/Chopin_Op024No2/Chopin_Op024No2_Wasowski-1980_pid9111-15.npy\n",
      "Skipping Chopin_Mazurkas/features/clean/Chopin_Op024No2/Chopin_Op024No2_Zimerman-1975_pid6100021-11.npy\n",
      "Skipping Chopin_Mazurkas/features/clean/Chopin_Op030No2/Chopin_Op030No2_Ashkenazy-1981_pid9058-19.npy\n",
      "Skipping Chopin_Mazurkas/features/clean/Chopin_Op030No2/Chopin_Op030No2_Ashkenazy-1982_pid50848-03.npy\n",
      "Skipping Chopin_Mazurkas/features/clean/Chopin_Op030No2/Chopin_Op030No2_Biret-1990_pid9062-19.npy\n",
      "Skipping Chopin_Mazurkas/features/clean/Chopin_Op030No2/Chopin_Op030No2_Blet-2003_pid9103-10.npy\n",
      "Skipping Chopin_Mazurkas/features/clean/Chopin_Op030No2/Chopin_Op030No2_Brailowsky-1960_pid9060-19.npy\n",
      "Skipping Chopin_Mazurkas/features/clean/Chopin_Op030No2/Chopin_Op030No2_Chiu-1999_pid9048-19.npy\n",
      "Skipping Chopin_Mazurkas/features/clean/Chopin_Op030No2/Chopin_Op030No2_Clidat-1994_pid9067-19.npy\n",
      "Skipping Chopin_Mazurkas/features/clean/Chopin_Op030No2/Chopin_Op030No2_Cortot-1951_pid9066-19.npy\n",
      "Skipping Chopin_Mazurkas/features/clean/Chopin_Op030No2/Chopin_Op030No2_Ferenczy-1956_pid9097-04.npy\n",
      "Skipping Chopin_Mazurkas/features/clean/Chopin_Op030No2/Chopin_Op030No2_Fiorentino-1961_pid9065-14.npy\n",
      "Skipping Chopin_Mazurkas/features/clean/Chopin_Op030No2/Chopin_Op030No2_Fliere-1977_pid9063-19.npy\n",
      "Skipping Chopin_Mazurkas/features/clean/Chopin_Op030No2/Chopin_Op030No2_Fou-1978_pid9071-30.npy\n",
      "Skipping Chopin_Mazurkas/features/clean/Chopin_Op030No2/Chopin_Op030No2_Fou-2005_pid9092-13.npy\n",
      "Skipping Chopin_Mazurkas/features/clean/Chopin_Op030No2/Chopin_Op030No2_Francois-1956_pid9070b-02.npy\n",
      "Skipping Chopin_Mazurkas/features/clean/Chopin_Op030No2/Chopin_Op030No2_Hatto-2006_pid9073-21.npy\n",
      "Skipping Chopin_Mazurkas/features/clean/Chopin_Op030No2/Chopin_Op030No2_Indjic-1988_pid9050-19.npy\n",
      "Skipping Chopin_Mazurkas/features/clean/Chopin_Op030No2/Chopin_Op030No2_Jonas-1947_pid9096-07.npy\n",
      "Skipping Chopin_Mazurkas/features/clean/Chopin_Op030No2/Chopin_Op030No2_Luisada-1990_pid9055-19.npy\n",
      "Skipping Chopin_Mazurkas/features/clean/Chopin_Op030No2/Chopin_Op030No2_Lushtak-2004_pid9088-14.npy\n",
      "Skipping Chopin_Mazurkas/features/clean/Chopin_Op030No2/Chopin_Op030No2_Magaloff-1977_pid9074f-19.npy\n",
      "Skipping Chopin_Mazurkas/features/clean/Chopin_Op030No2/Chopin_Op030No2_Michelangeli-1971_pid5667269b-38.npy\n",
      "Skipping Chopin_Mazurkas/features/clean/Chopin_Op030No2/Chopin_Op030No2_Milkina-1970_pid9099-19.npy\n",
      "Skipping Chopin_Mazurkas/features/clean/Chopin_Op030No2/Chopin_Op030No2_Mohovich-1999_pid9104-19.npy\n",
      "Skipping Chopin_Mazurkas/features/clean/Chopin_Op030No2/Chopin_Op030No2_Olejniczac-1990_pid9100b-19.npy\n",
      "Skipping Chopin_Mazurkas/features/clean/Chopin_Op030No2/Chopin_Op030No2_Poblocka-1999_pid9093-19.npy\n",
      "Skipping Chopin_Mazurkas/features/clean/Chopin_Op030No2/Chopin_Op030No2_Rangell-2001_pid9094-19.npy\n",
      "Skipping Chopin_Mazurkas/features/clean/Chopin_Op030No2/Chopin_Op030No2_Rubinstein-1939_pid9049-19.npy\n",
      "Skipping Chopin_Mazurkas/features/clean/Chopin_Op030No2/Chopin_Op030No2_Rubinstein-1952_pid9075-19.npy\n",
      "Skipping Chopin_Mazurkas/features/clean/Chopin_Op030No2/Chopin_Op030No2_Rubinstein-1966_pid9059-19.npy\n",
      "Skipping Chopin_Mazurkas/features/clean/Chopin_Op030No2/Chopin_Op030No2_Shebanova-2002_pid9072-19.npy\n",
      "Skipping Chopin_Mazurkas/features/clean/Chopin_Op030No2/Chopin_Op030No2_Smith-1975_pid9054-19.npy\n",
      "Skipping Chopin_Mazurkas/features/clean/Chopin_Op030No2/Chopin_Op030No2_Sofronitsky-1960_pid5667291-15.npy\n",
      "Skipping Chopin_Mazurkas/features/clean/Chopin_Op030No2/Chopin_Op030No2_Uninsky-1959_pid9061-19.npy\n",
      "Skipping Chopin_Mazurkas/features/clean/Chopin_Op030No2/Chopin_Op030No2_Yaroshinskiy-2005_pid9081-10.npy\n",
      "Skipping Chopin_Mazurkas/features/clean/Chopin_Op068No3/Chopin_Op068No3_Ashkenazy-1981_pid9058b-19.npy\n",
      "Skipping Chopin_Mazurkas/features/clean/Chopin_Op068No3/Chopin_Op068No3_Bacha-1997_pid9166b-09.npy\n",
      "Skipping Chopin_Mazurkas/features/clean/Chopin_Op068No3/Chopin_Op068No3_Barbosa-1983_pid9174b-19.npy\n",
      "Skipping Chopin_Mazurkas/features/clean/Chopin_Op068No3/Chopin_Op068No3_Biret-1990_pid9062b-22.npy\n",
      "Skipping Chopin_Mazurkas/features/clean/Chopin_Op068No3/Chopin_Op068No3_Block-1995_pid9064-02.npy\n",
      "Skipping Chopin_Mazurkas/features/clean/Chopin_Op068No3/Chopin_Op068No3_Brailowsky-1960_pid9060b-17.npy\n",
      "Skipping Chopin_Mazurkas/features/clean/Chopin_Op068No3/Chopin_Op068No3_Chiu-1999_pid9048b-22.npy\n",
      "Skipping Chopin_Mazurkas/features/clean/Chopin_Op068No3/Chopin_Op068No3_Clidat-1994_pid9067-27.npy\n",
      "Skipping Chopin_Mazurkas/features/clean/Chopin_Op068No3/Chopin_Op068No3_Cohen-1997_pid9069-19.npy\n",
      "Skipping Chopin_Mazurkas/features/clean/Chopin_Op068No3/Chopin_Op068No3_Cortot-1951_pid9066b-19.npy\n",
      "Skipping Chopin_Mazurkas/features/clean/Chopin_Op068No3/Chopin_Op068No3_Csalog-1996_pid1263b-19.npy\n",
      "Skipping Chopin_Mazurkas/features/clean/Chopin_Op068No3/Chopin_Op068No3_Czerny-Stefanska-1990_pid9192b-21.npy\n",
      "Skipping Chopin_Mazurkas/features/clean/Chopin_Op068No3/Chopin_Op068No3_Ezaki-2006_pid9139b-21.npy\n",
      "Skipping Chopin_Mazurkas/features/clean/Chopin_Op068No3/Chopin_Op068No3_Ferenczy-1958_pid9097-15.npy\n",
      "Skipping Chopin_Mazurkas/features/clean/Chopin_Op068No3/Chopin_Op068No3_Fliere-1977_pid9063b-25.npy\n",
      "Skipping Chopin_Mazurkas/features/clean/Chopin_Op068No3/Chopin_Op068No3_Fou-1978_pid9071-04.npy\n",
      "Skipping Chopin_Mazurkas/features/clean/Chopin_Op068No3/Chopin_Op068No3_Francois-1956_pid9070b-31.npy\n",
      "Skipping Chopin_Mazurkas/features/clean/Chopin_Op068No3/Chopin_Op068No3_Grinberg-1951_pid9112-11.npy\n",
      "Skipping Chopin_Mazurkas/features/clean/Chopin_Op068No3/Chopin_Op068No3_Hatto-1993_pid610003b-23.npy\n",
      "Skipping Chopin_Mazurkas/features/clean/Chopin_Op068No3/Chopin_Op068No3_Hatto-2006_pid9073b-25.npy\n",
      "Skipping Chopin_Mazurkas/features/clean/Chopin_Op068No3/Chopin_Op068No3_Indjic-1988_pid9050b-21.npy\n",
      "Skipping Chopin_Mazurkas/features/clean/Chopin_Op068No3/Chopin_Op068No3_Jonas-1947_pid9096-03.npy\n",
      "Skipping Chopin_Mazurkas/features/clean/Chopin_Op068No3/Chopin_Op068No3_Kapell-1951_pid9090-26.npy\n",
      "Skipping Chopin_Mazurkas/features/clean/Chopin_Op068No3/Chopin_Op068No3_Kiepura-1999_pid9098-07.npy\n",
      "Skipping Chopin_Mazurkas/features/clean/Chopin_Op068No3/Chopin_Op068No3_Kushner-1989_pid9118b-25.npy\n",
      "Skipping Chopin_Mazurkas/features/clean/Chopin_Op068No3/Chopin_Op068No3_Luisada-1991_pid9055b-19.npy\n",
      "Skipping Chopin_Mazurkas/features/clean/Chopin_Op068No3/Chopin_Op068No3_Lushtak-2004_pid9088-25.npy\n",
      "Skipping Chopin_Mazurkas/features/clean/Chopin_Op068No3/Chopin_Op068No3_Magaloff-1978_pid9074g-19.npy\n",
      "Skipping Chopin_Mazurkas/features/clean/Chopin_Op068No3/Chopin_Op068No3_Meguri-1997_pid9137-22.npy\n",
      "Skipping Chopin_Mazurkas/features/clean/Chopin_Op068No3/Chopin_Op068No3_Milkina-1970_pid9099b-25.npy\n",
      "Skipping Chopin_Mazurkas/features/clean/Chopin_Op068No3/Chopin_Op068No3_Mohovich-1999_pid9104b-19.npy\n",
      "Skipping Chopin_Mazurkas/features/clean/Chopin_Op068No3/Chopin_Op068No3_Niedzielski-1931_pid919401-04.npy\n",
      "Skipping Chopin_Mazurkas/features/clean/Chopin_Op068No3/Chopin_Op068No3_Ohlsson-1999_pid9153b-21.npy\n",
      "Skipping Chopin_Mazurkas/features/clean/Chopin_Op068No3/Chopin_Op068No3_Olejniczac-1990_pid9100b-08.npy\n",
      "Skipping Chopin_Mazurkas/features/clean/Chopin_Op068No3/Chopin_Op068No3_Osinska-1989_pid9101c-15.npy\n",
      "Skipping Chopin_Mazurkas/features/clean/Chopin_Op068No3/Chopin_Op068No3_Rangell-2001_pid9094b-27.npy\n",
      "Skipping Chopin_Mazurkas/features/clean/Chopin_Op068No3/Chopin_Op068No3_Richter-1976_pid9172-12.npy\n",
      "Skipping Chopin_Mazurkas/features/clean/Chopin_Op068No3/Chopin_Op068No3_Rubinstein-1939_pid9049b-19.npy\n",
      "Skipping Chopin_Mazurkas/features/clean/Chopin_Op068No3/Chopin_Op068No3_Rubinstein-1952_pid9075b-19.npy\n",
      "Skipping Chopin_Mazurkas/features/clean/Chopin_Op068No3/Chopin_Op068No3_Rubinstein-1961_pid5667285b-10.npy\n",
      "Skipping Chopin_Mazurkas/features/clean/Chopin_Op068No3/Chopin_Op068No3_Rubinstein-1966_pid9059b-23.npy\n",
      "Skipping Chopin_Mazurkas/features/clean/Chopin_Op068No3/Chopin_Op068No3_Shebanova-2002_pid9072b-23.npy\n",
      "Skipping Chopin_Mazurkas/features/clean/Chopin_Op068No3/Chopin_Op068No3_Smidowicz-1948_pid9082-11.npy\n",
      "Skipping Chopin_Mazurkas/features/clean/Chopin_Op068No3/Chopin_Op068No3_Smidowicz-1948_pid9091-17.npy\n",
      "Skipping Chopin_Mazurkas/features/clean/Chopin_Op068No3/Chopin_Op068No3_Smith-1975_pid9054b-21.npy\n",
      "Skipping Chopin_Mazurkas/features/clean/Chopin_Op068No3/Chopin_Op068No3_Sofronitsky-1949_pid9114-34.npy\n",
      "Skipping Chopin_Mazurkas/features/clean/Chopin_Op068No3/Chopin_Op068No3_Sztompka-1959_pid9170b-21.npy\n",
      "Skipping Chopin_Mazurkas/features/clean/Chopin_Op068No3/Chopin_Op068No3_Tomsic-1995_pid9190-11.npy\n",
      "Skipping Chopin_Mazurkas/features/clean/Chopin_Op068No3/Chopin_Op068No3_Uninsky-1971_pid9061b-16.npy\n",
      "Skipping Chopin_Mazurkas/features/clean/Chopin_Op068No3/Chopin_Op068No3_Wasowski-1980_pid9111b-21.npy\n",
      "Finished generating features for Chopin_Mazurkas\n",
      "Finished generating features for Mazurkas_median_x0.500\n",
      "Finished generating features for Mazurkas_median_x0.630\n",
      "Finished generating features for Mazurkas_median_x0.794\n",
      "Finished generating features for Mazurkas_median_x1.000\n",
      "Finished generating features for Mazurkas_median_x1.260\n",
      "Finished generating features for Mazurkas_median_x1.588\n",
      "Finished generating features for Mazurkas_median_x2.000\n"
     ]
    }
   ],
   "source": [
    "# compute chromas for each directory\n",
    "for dir in directories:\n",
    "    compute_chroma_batch(train_files, dir, FEATS_CLEAN_DIR)\n",
    "    compute_chroma_batch(test_files, dir, FEATS_CLEAN_DIR)\n",
    "    print(f\"Finished generating features for {dir}\")"
   ]
  },
  {
   "attachments": {},
   "cell_type": "markdown",
   "metadata": {},
   "source": [
    "## Verification"
   ]
  },
  {
   "attachments": {},
   "cell_type": "markdown",
   "metadata": {},
   "source": [
    "Ensure all audio durations are within 10 milliseconds of their intended duration."
   ]
  },
  {
   "cell_type": "code",
   "execution_count": 70,
   "metadata": {},
   "outputs": [
    {
     "data": {
      "image/png": "[encoded data removed]",
      "text/plain": [
       "<Figure size 432x288 with 1 Axes>"
      ]
     },
     "metadata": {
      "needs_background": "light"
     },
     "output_type": "display_data"
    }
   ],
   "source": [
    "def verify_benchmark_durations(medians, tolerance = 1e-2):\n",
    "    dirs = glob.glob('Mazurkas_median_*')\n",
    "    deviations = []\n",
    "    for dir in dirs:\n",
    "        pieces = glob.glob(f'{dir}/wav_22050_mono/*/**/', recursive=True)\n",
    "        for piece in pieces:\n",
    "            factor, pieceid = os.path.split(os.path.normpath(piece))\n",
    "            factor = float(os.path.split(factor)[0].split('_x')[1])\n",
    "            recordings = glob.glob(f\"{piece}/*\")\n",
    "            for recording in recordings:\n",
    "                duration = lb.get_duration(filename=recording)\n",
    "                deviation = abs(duration - (medians[pieceid] * factor))\n",
    "                deviations.append(deviation)\n",
    "    return deviations\n",
    "deviations = verify_benchmark_durations(medians)\n",
    "plt.hist(deviations)\n",
    "plt.title(\"deviations\")\n",
    "plt.xlabel(\"seconds\")\n",
    "plt.ylabel(\"pieces\")\n",
    "plt.show()"
   ]
  },
  {
   "attachments": {},
   "cell_type": "markdown",
   "metadata": {},
   "source": [
    "Verify .beat files by examining example piece Chopin_Op017No4_Weissenberg-1971_pid9052b-09.wav x2.000."
   ]
  },
  {
   "cell_type": "code",
   "execution_count": 71,
   "metadata": {},
   "outputs": [
    {
     "data": {
      "text/plain": [
       "['3.7878267363045808\\t5.3110904403952945\\t2\\n',\n",
       " '5.3110904403952945\\t6.407840307340608\\t3\\n',\n",
       " '6.407840307340608\\t7.3217985297950365\\t1\\n',\n",
       " '7.3217985297950365\\t8.174826204085836\\t2\\n',\n",
       " '8.174826204085836\\t9.048164061097845\\t3\\n',\n",
       " '9.048164061097845\\t10.043363014437112\\t1\\n',\n",
       " '10.043363014437112\\t11.302594343152101\\t2\\n',\n",
       " '11.302594343152101\\t13.435163528879098\\t3\\n',\n",
       " '13.435163528879098\\t14.445099550800874\\t1\\n',\n",
       " '14.445099550800874\\t17.77875607414859\\t2\\n']"
      ]
     },
     "execution_count": 71,
     "metadata": {},
     "output_type": "execute_result"
    }
   ],
   "source": [
    "create_beat_annotation('Chopin_Mazurkas/annotations_beat/Chopin_Op017No4/Chopin_Op017No4_Weissenberg-1971_pid9052b-09.beat', 'Chopin_Mazurkas/wav_22050_mono/Chopin_Op017No4/Chopin_Op017No4_Weissenberg-1971_pid9052b-09.wav', 'test.beat', medians[\"Chopin_Op017No4\"]*2)[3:13]"
   ]
  },
  {
   "cell_type": "code",
   "execution_count": 72,
   "metadata": {},
   "outputs": [
    {
     "data": {
      "text/plain": [
       "['3.787826736304581\\t5.3110904403952945\\t2\\n',\n",
       " '5.3110904403952945\\t6.407840307340609\\t3\\n',\n",
       " '6.407840307340609\\t7.321798529795037\\t1\\n',\n",
       " '7.321798529795037\\t8.174826204085836\\t2\\n',\n",
       " '8.174826204085836\\t9.048164061097847\\t3\\n',\n",
       " '9.048164061097847\\t10.04336301443711\\t1\\n',\n",
       " '10.04336301443711\\t11.302594343152101\\t2\\n',\n",
       " '11.302594343152101\\t13.4351635288791\\t3\\n',\n",
       " '13.4351635288791\\t14.445099550800876\\t1\\n',\n",
       " '14.445099550800876\\t17.77875607414859\\t2\\n']"
      ]
     },
     "execution_count": 72,
     "metadata": {},
     "output_type": "execute_result"
    }
   ],
   "source": [
    "real_duration = lb.get_duration(filename=\"Chopin_Mazurkas/wav_22050_mono/Chopin_Op017No4/Chopin_Op017No4_Weissenberg-1971_pid9052b-09.wav\")\n",
    "factor = medians[\"Chopin_Op017No4\"] * 2 / real_duration\n",
    "curr_read = 0\n",
    "lines = []\n",
    "with open('Chopin_Mazurkas/annotations_beat/Chopin_Op017No4/Chopin_Op017No4_Weissenberg-1971_pid9052b-09.beat', 'r') as infile:\n",
    "    for line in infile:\n",
    "        if curr_read < 3:\n",
    "            curr_read += 1\n",
    "            continue\n",
    "        start, end, label = line.split('\\t')\n",
    "        start = factor * float(start)\n",
    "        end = factor * float(end)\n",
    "        lines.append(f\"{start}\\t{end}\\t{label}\")\n",
    "        curr_read += 1\n",
    "        if curr_read >= 13:\n",
    "            break\n",
    "lines"
   ]
  },
  {
   "attachments": {},
   "cell_type": "markdown",
   "metadata": {},
   "source": [
    "# Generate Subsequence Dataset"
   ]
  },
  {
   "cell_type": "code",
   "execution_count": 7,
   "metadata": {},
   "outputs": [],
   "source": [
    "from pydub import AudioSegment # NOTE: add pydub to environment file\n",
    "import math"
   ]
  },
  {
   "attachments": {},
   "cell_type": "markdown",
   "metadata": {},
   "source": [
    "### Create directories"
   ]
  },
  {
   "cell_type": "code",
   "execution_count": null,
   "metadata": {},
   "outputs": [],
   "source": [
    "# create a subsequence directory for each time factor (ex. 'Mazurkas_median_x1.000_subseq20')\n",
    "factors = ['1.000','0.500','0.630','0.794','1.260','1.588','2.000']\n",
    "create_mazurka_directories(factors, 20) # 20 for 'subseq20' directories"
   ]
  },
  {
   "attachments": {},
   "cell_type": "markdown",
   "metadata": {},
   "source": [
    "### Generate new .wav and .beat files"
   ]
  },
  {
   "cell_type": "code",
   "execution_count": 9,
   "metadata": {},
   "outputs": [
    {
     "data": {
      "text/plain": [
       "{'Chopin_Op063No3': 25.644299319727892,\n",
       " 'Chopin_Op068No3': 19.929632653061226,\n",
       " 'Chopin_Op017No4': 50.98563265306123,\n",
       " 'Chopin_Op024No2': 27.33496598639456,\n",
       " 'Chopin_Op030No2': 17.46029931972789}"
      ]
     },
     "execution_count": 9,
     "metadata": {},
     "output_type": "execute_result"
    }
   ],
   "source": [
    "# get target durations for .wav files in subseq20 directories\n",
    "medians = get_median()\n",
    "medians_subseq = {key:medians[key]*0.2 for key in medians}\n",
    "medians_subseq"
   ]
  },
  {
   "cell_type": "code",
   "execution_count": 46,
   "metadata": {},
   "outputs": [],
   "source": [
    "def get_start_end_times(total_dur, target_len): # everything in milliseconds\n",
    "    '''select random time to get segment'''\n",
    "    start = random.randint(0, math.floor(total_dur-target_len))\n",
    "    end = start + target_len\n",
    "    return start, end"
   ]
  },
  {
   "cell_type": "code",
   "execution_count": 96,
   "metadata": {},
   "outputs": [],
   "source": [
    "def shift_beat_annotation(in_path_beat, out_path_beat, start_time, end_time): # start_time is in seconds\n",
    "    '''shifts beat annotations for one .wav file'''\n",
    "    original_ts = getTimestamps(in_path_beat)\n",
    "    index = 0\n",
    "    curr_read = 0\n",
    "    new_lines = []\n",
    "    with open(in_path_beat, 'r') as infile:\n",
    "        for line in infile:\n",
    "            if curr_read < 3: # copy first 3 lines\n",
    "                new_lines.append(line)\n",
    "                curr_read += 1\n",
    "                continue\n",
    "            else: # modify the rest of the lines\n",
    "                info = line.split('\\t')\n",
    "                curr_start, curr_end, label = float(info[0]), float(info[1]), info[2]\n",
    "                if(curr_end > end_time): # check that we haven't reached the end\n",
    "                    break\n",
    "                elif(curr_start > start_time):\n",
    "                    curr_start, curr_end = curr_start-start_time, curr_end-start_time\n",
    "                    if len(new_lines) == 3:      \n",
    "                        label = '{}-{}\\n'.format(label.strip(), index)\n",
    "                    new_string = '{}\\t{}\\t{}'.format(curr_start, curr_end, label)\n",
    "                    new_lines.append(new_string)\n",
    "                index += 1\n",
    "\n",
    "    with open(out_path_beat, 'w') as outfile:\n",
    "        for line in new_lines:\n",
    "            outfile.write(line)\n",
    "    return new_lines"
   ]
  },
  {
   "cell_type": "code",
   "execution_count": 97,
   "metadata": {},
   "outputs": [],
   "source": [
    "def subseq_single(path_to_wav, median_subseq, factor, outdir):\n",
    "    '''modifies single .wav and .beat file pair'''\n",
    "    \n",
    "    # cut the .wav file into target segment\n",
    "    new_audio = AudioSegment.from_wav(path_to_wav) # load old audio\n",
    "    old_duration = new_audio.duration_seconds*1000\n",
    "    start_time, end_time = get_start_end_times(old_duration, median_subseq*1000*float(factor)) # calculate time to modify to\n",
    "    new_audio = new_audio[start_time:end_time] # cut the .wav file\n",
    "\n",
    "    # save to new .wav file\n",
    "    out_path_wav = '{}{}'.format(outdir, path_to_wav[22:]) # e.g. 'Mazurkas_median_x1.000_subseq20/wav_22050_mono/Chopin_Op017No4/Chopin_Op017No4_Kitain-1937_pid9163-02.wav'\n",
    "    with open(out_path_wav, 'wb') as f:\n",
    "        new_audio.export(f, format='wav')\n",
    "    \n",
    "    # make beat file\n",
    "    in_path_beat = path_to_wav.replace('wav_22050_mono', 'annotations_beat').replace('.wav', '.beat')\n",
    "    out_path_beat = '{}{}'.format(outdir, in_path_beat[22:])\n",
    "    shift_beat_annotation(in_path_beat, out_path_beat, start_time/1000, end_time/1000)\n",
    "    \n",
    "    return\n"
   ]
  },
  {
   "cell_type": "code",
   "execution_count": 98,
   "metadata": {},
   "outputs": [],
   "source": [
    "def subseq_batch(filelist, piece, median_subseq, factor, outdir, n_cores): # indir is e.g. 'Mazurkas_median_x0.500'\n",
    "    '''modify for all .wav files for one mazurka for one factor'''\n",
    "    inputs = []\n",
    "    indir = 'Mazurkas_median_x{}'.format(factor)\n",
    "    with open(filelist, 'r') as cfg_file:\n",
    "        for line in cfg_file:\n",
    "            if piece in line:\n",
    "                # make path to .wav file\n",
    "                path_to_wav = '{}/wav_22050_mono/{}.wav'.format(indir, line[:-1])\n",
    "                inputs.append((path_to_wav, median_subseq, factor, outdir))\n",
    "    # process files in parallel\n",
    "    pool = multiprocessing.Pool(processes = n_cores)\n",
    "    pool.starmap(subseq_single, inputs)\n",
    "    return"
   ]
  },
  {
   "cell_type": "code",
   "execution_count": 101,
   "metadata": {},
   "outputs": [],
   "source": [
    "def subseq_by_mazurka(filelist, piece, median_subseq, factors):\n",
    "    '''modify by all factors with one mazurka'''\n",
    "    for factor in factors:\n",
    "        outdir = 'Mazurkas_median_x{}_subseq20'.format(factor)\n",
    "        subseq_batch(filelist, piece, median_subseq, factor, outdir , 24)\n",
    "        print(\"Done with Mazurkas_median_x{}_subseq20/{}\".format(factor, piece))\n",
    "    return\n",
    "    "
   ]
  },
  {
   "cell_type": "code",
   "execution_count": null,
   "metadata": {},
   "outputs": [],
   "source": [
    "subseq_by_mazurka(train_files, 'Chopin_Op017No4', medians_subseq[\"Chopin_Op017No4\"], factors)\n",
    "subseq_by_mazurka(train_files, 'Chopin_Op063No3', medians_subseq[\"Chopin_Op063No3\"], factors)\n",
    "subseq_by_mazurka(test_files, 'Chopin_Op024No2', medians_subseq[\"Chopin_Op024No2\"], factors)\n",
    "subseq_by_mazurka(test_files, 'Chopin_Op030No2', medians_subseq[\"Chopin_Op030No2\"], factors)\n",
    "subseq_by_mazurka(test_files, 'Chopin_Op068No3', medians_subseq[\"Chopin_Op068No3\"], factors)"
   ]
  },
  {
   "attachments": {},
   "cell_type": "markdown",
   "metadata": {},
   "source": [
    "### Compute chroma features"
   ]
  },
  {
   "cell_type": "code",
   "execution_count": 10,
   "metadata": {},
   "outputs": [],
   "source": [
    "FEATS_CLEAN_DIR = FEATURES_ROOT / 'clean'\n",
    "directories = ['Chopin_Mazurkas', 'Mazurkas_median_x0.500_subseq20', 'Mazurkas_median_x0.630_subseq20', 'Mazurkas_median_x0.794_subseq20', 'Mazurkas_median_x1.000_subseq20', 'Mazurkas_median_x1.260_subseq20', 'Mazurkas_median_x1.588_subseq20', 'Mazurkas_median_x2.000_subseq20']"
   ]
  },
  {
   "cell_type": "code",
   "execution_count": 14,
   "metadata": {},
   "outputs": [
    {
     "name": "stdout",
     "output_type": "stream",
     "text": [
      "Finished generating features for Chopin_Mazurkas\n",
      "Finished generating features for Mazurkas_median_x0.500_subseq20\n",
      "Finished generating features for Mazurkas_median_x0.630_subseq20\n",
      "Finished generating features for Mazurkas_median_x0.794_subseq20\n",
      "Finished generating features for Mazurkas_median_x1.000_subseq20\n",
      "Finished generating features for Mazurkas_median_x1.260_subseq20\n",
      "Finished generating features for Mazurkas_median_x1.588_subseq20\n",
      "Finished generating features for Mazurkas_median_x2.000_subseq20\n"
     ]
    }
   ],
   "source": [
    "# compute chromas for each directory\n",
    "for dir in directories:\n",
    "    compute_chroma_batch(train_files, dir, FEATS_CLEAN_DIR, 24)\n",
    "    compute_chroma_batch(test_files, dir, FEATS_CLEAN_DIR, 24)\n",
    "    print(\"Finished generating features for {}\".format(dir))"
   ]
  }
 ],
 "metadata": {
  "kernelspec": {
   "display_name": "Python 3",
   "language": "python",
   "name": "python3"
  },
  "language_info": {
   "codemirror_mode": {
    "name": "ipython",
    "version": 3
   },
   "file_extension": ".py",
   "mimetype": "text/x-python",
   "name": "python",
   "nbconvert_exporter": "python",
   "pygments_lexer": "ipython3",
   "version": "3.7.7"
  }
 },
 "nbformat": 4,
 "nbformat_minor": 4
}
